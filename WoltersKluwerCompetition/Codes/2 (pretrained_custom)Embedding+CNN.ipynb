{
  "cells": [
    {
      "cell_type": "code",
      "execution_count": 1,
      "metadata": {
        "colab": {
          "base_uri": "https://localhost:8080/"
        },
        "id": "7bc9nioB-HmF",
        "outputId": "dd7f6977-3d8e-4a55-caa0-315dd6978204"
      },
      "outputs": [
        {
          "output_type": "stream",
          "name": "stdout",
          "text": [
            "Looking in indexes: https://pypi.org/simple, https://us-python.pkg.dev/colab-wheels/public/simple/\n",
            "Collecting torchinfo\n",
            "  Downloading torchinfo-1.7.1-py3-none-any.whl (22 kB)\n",
            "Installing collected packages: torchinfo\n",
            "Successfully installed torchinfo-1.7.1\n"
          ]
        }
      ],
      "source": [
        "pip install torchinfo"
      ]
    },
    {
      "cell_type": "code",
      "execution_count": 2,
      "metadata": {
        "colab": {
          "base_uri": "https://localhost:8080/"
        },
        "id": "m9ocpH9IscrS",
        "outputId": "0071dbb4-b1f0-4858-e778-838c0af7486a"
      },
      "outputs": [
        {
          "output_type": "stream",
          "name": "stderr",
          "text": [
            "[nltk_data] Downloading package stopwords to /root/nltk_data...\n",
            "[nltk_data]   Unzipping corpora/stopwords.zip.\n",
            "[nltk_data] Downloading package punkt to /root/nltk_data...\n",
            "[nltk_data]   Unzipping tokenizers/punkt.zip.\n"
          ]
        },
        {
          "output_type": "execute_result",
          "data": {
            "text/plain": [
              "True"
            ]
          },
          "metadata": {},
          "execution_count": 2
        }
      ],
      "source": [
        "import os\n",
        "import numpy as np\n",
        "import pandas as pd\n",
        "import torch\n",
        "import torch.nn as nn\n",
        "import nltk\n",
        "import keras  # only for loading the dataset and preprocessing\n",
        "import keras_preprocessing\n",
        "import matplotlib.pyplot as plt\n",
        "from torch.utils.data import Dataset, DataLoader, random_split\n",
        "from gensim.models import word2vec, KeyedVectors\n",
        "from sklearn.model_selection import train_test_split\n",
        "import gensim.downloader\n",
        "import re\n",
        "from nltk.corpus import stopwords\n",
        "import time\n",
        "from torchinfo import summary\n",
        "nltk.download('stopwords')\n",
        "nltk.download('punkt')"
      ]
    },
    {
      "cell_type": "code",
      "execution_count": 3,
      "metadata": {
        "id": "RTH0aTWKtc4R",
        "colab": {
          "base_uri": "https://localhost:8080/"
        },
        "outputId": "7065d3c2-cce6-49d0-fdbe-7e7a861eb009"
      },
      "outputs": [
        {
          "output_type": "stream",
          "name": "stdout",
          "text": [
            "Mounted at /content/drive\n"
          ]
        },
        {
          "output_type": "execute_result",
          "data": {
            "text/plain": [
              "['data',\n",
              " 'regulationword2vec_mincount1-300.model',\n",
              " 'output',\n",
              " 'pretrained_data_for_CNN_LSTM.csv',\n",
              " 'pretrained_test_data_for_CNN_LSTM.csv',\n",
              " 'TFIDF_Sklearn_SVC_NB_LR.ipynb',\n",
              " 'Pretrained_Bert_Pytrochlightning.ipynb',\n",
              " 'answer_w2vcnnlstm.csv',\n",
              " 'Copy of BOW_NAIVE_BASELINE_model.ipynb',\n",
              " 'BOW_NAIVE_BASELINE_model.ipynb',\n",
              " 'Baseline-CNN-CNN+LSTM.ipynb',\n",
              " 'CNN.ipynb',\n",
              " '(pretrained-custom)Embedding+CNN.ipynb']"
            ]
          },
          "metadata": {},
          "execution_count": 3
        }
      ],
      "source": [
        "# connect to google drive\n",
        "import os\n",
        "from google.colab import drive\n",
        "drive.mount('/content/drive')\n",
        "\n",
        "path = \"/content/drive/MyDrive/SIT coursework/667 Homeworks/Final Project\"\n",
        "\n",
        "os.chdir(path)\n",
        "os.listdir(path)"
      ]
    },
    {
      "cell_type": "code",
      "execution_count": 4,
      "metadata": {
        "id": "tLxWmUgut8zE"
      },
      "outputs": [],
      "source": [
        "df = pd.read_csv('./data/train_final.csv')\n",
        "df.drop('Unnamed: 0', axis =1, inplace = True)\n",
        "df['context'] = df['name'] + '. ' + df['document_text']\n",
        "\n",
        "test_df = pd.read_csv('./data/test.csv')\n",
        "test_df['context'] = test_df['name'] + '. ' + test_df['document_text']"
      ]
    },
    {
      "cell_type": "code",
      "execution_count": 5,
      "metadata": {
        "id": "Lf0HVvnzuCxb",
        "colab": {
          "base_uri": "https://localhost:8080/"
        },
        "outputId": "f527dc0f-5751-439e-a015-c34cc2c6285a"
      },
      "outputs": [
        {
          "output_type": "execute_result",
          "data": {
            "text/plain": [
              "['Accounting and Finance',\n",
              " 'Antitrust',\n",
              " 'Banking',\n",
              " 'Broker Dealer',\n",
              " 'Commodities Trading',\n",
              " 'Compliance Management',\n",
              " 'Consumer protection',\n",
              " 'Contract Provisions',\n",
              " 'Corporate Communications',\n",
              " 'Corporate Governance',\n",
              " 'Definitions',\n",
              " 'Delivery',\n",
              " 'Examinations',\n",
              " 'Exemptions',\n",
              " 'Fees and Charges',\n",
              " 'Financial Accounting',\n",
              " 'Financial Crime',\n",
              " 'Forms',\n",
              " 'Fraud',\n",
              " 'IT Risk',\n",
              " 'Information Filing',\n",
              " 'Insurance',\n",
              " 'Legal',\n",
              " 'Legal Proceedings',\n",
              " 'Licensing',\n",
              " 'Licensure and certification',\n",
              " 'Liquidity Risk',\n",
              " 'Listing',\n",
              " 'Market Abuse',\n",
              " 'Market Risk',\n",
              " 'Monetary and Economic Policy',\n",
              " 'Money Services',\n",
              " 'Money-Laundering and Terrorist Financing',\n",
              " 'Natural Disasters',\n",
              " 'Payments and Settlements',\n",
              " 'Powers and Duties',\n",
              " 'Quotation',\n",
              " 'Records Maintenance',\n",
              " 'Regulatory Actions',\n",
              " 'Regulatory Reporting',\n",
              " 'Required Disclosures',\n",
              " 'Research',\n",
              " 'Risk Management',\n",
              " 'Securities Clearing',\n",
              " 'Securities Issuing',\n",
              " 'Securities Management',\n",
              " 'Securities Sales',\n",
              " 'Securities Settlement',\n",
              " 'Trade Pricing',\n",
              " 'Trade Settlement']"
            ]
          },
          "metadata": {},
          "execution_count": 5
        }
      ],
      "source": [
        "# generate target columns\n",
        "label_cols = [col for col in df.columns if col not in ['id', 'name', 'document_text', 'context']]\n",
        "label_cols"
      ]
    },
    {
      "cell_type": "code",
      "execution_count": 6,
      "metadata": {
        "id": "iXvwLlYAuGpd",
        "colab": {
          "base_uri": "https://localhost:8080/",
          "height": 354
        },
        "outputId": "b0b80102-430d-4d1c-ba42-1371a2fb9b7f"
      },
      "outputs": [
        {
          "output_type": "execute_result",
          "data": {
            "text/plain": [
              "(array([2959., 1195.,  456.,  215.,   80.,   49.,   22.,   11.,    3.,\n",
              "           3.]),\n",
              " array([  59. ,  181.6,  304.2,  426.8,  549.4,  672. ,  794.6,  917.2,\n",
              "        1039.8, 1162.4, 1285. ]),\n",
              " <a list of 10 Patch objects>)"
            ]
          },
          "metadata": {},
          "execution_count": 6
        },
        {
          "output_type": "display_data",
          "data": {
            "text/plain": [
              "<Figure size 432x288 with 1 Axes>"
            ],
            "image/png": "[encoded data removed]"
          },
          "metadata": {
            "needs_background": "light"
          }
        }
      ],
      "source": [
        "# find out the distribution of context lengths\n",
        "from collections import Counter\n",
        "import matplotlib.pyplot as plt\n",
        "def bag_of_words(text):\n",
        "    # TODO: Implement bag of words\n",
        "    return len(text.split(' '))\n",
        "plt.hist(test_df['context'].apply(bag_of_words))"
      ]
    },
    {
      "cell_type": "code",
      "execution_count": 7,
      "metadata": {
        "id": "m3IkUERcuN2Y"
      },
      "outputs": [],
      "source": [
        "#define preprocessing code for further use\n",
        "\n",
        "def clean_text(text):\n",
        "    if text == None:\n",
        "        return None\n",
        "    text = text.lower()\n",
        "    text = re.sub(r\"what's\", \"what is \", text)\n",
        "    text = re.sub(r\"\\'s\", \" \", text)\n",
        "    text = re.sub(r\"\\'ve\", \" have \", text)\n",
        "    text = re.sub(r\"can't\", \"can not \", text)\n",
        "    text = re.sub(r\"n't\", \" not \", text)\n",
        "    text = re.sub(r\"i'm\", \"i am \", text)\n",
        "    text = re.sub(r\"\\'re\", \" are \", text)\n",
        "    text = re.sub(r\"\\'d\", \" would \", text)\n",
        "    text = re.sub(r\"\\'ll\", \" will \", text)\n",
        "    text = re.sub(r\"\\'scuse\", \" excuse \", text)\n",
        "    text = re.sub('\\W', ' ', text)\n",
        "    text = re.sub('\\s+', ' ', text)\n",
        "    text = re.sub('\\d+', ' ', text)\n",
        "    text = re.sub('_+', ' ', text)\n",
        "    text = re.sub(' +', ' ', text)\n",
        "    text = text.strip(' ')\n",
        "    \n",
        "    return text\n",
        "\n",
        "def tokenizer(text):\n",
        "    sentences = nltk.sent_tokenize(text)\n",
        "\n",
        "    sentences = [nltk.word_tokenize(sentence) for sentence in sentences]\n",
        "\n",
        "    for i in range(len(sentences)):\n",
        "        sentences[i] = [word for word in sentences[i] if word not in stopwords.words('english')]\n",
        "    \n",
        "    return sentences[0]"
      ]
    },
    {
      "cell_type": "code",
      "execution_count": 8,
      "metadata": {
        "id": "5tuwJV4QuO5d"
      },
      "outputs": [],
      "source": [
        "df['context'] = df['context'].map(lambda con: tokenizer(clean_text(con)))\n",
        "test_df['context'] = test_df['context'].map(lambda con: tokenizer(clean_text(con)))"
      ]
    },
    {
      "cell_type": "code",
      "source": [
        "my_word2vec_pretrained = gensim.downloader.load('glove-wiki-gigaword-100')"
      ],
      "metadata": {
        "colab": {
          "base_uri": "https://localhost:8080/"
        },
        "id": "RAdugjuniMdA",
        "outputId": "f10243d2-e6f7-481b-cf9e-d2b9566ccb75"
      },
      "execution_count": 9,
      "outputs": [
        {
          "output_type": "stream",
          "name": "stdout",
          "text": [
            "[==================================================] 100.0% 128.1/128.1MB downloaded\n"
          ]
        }
      ]
    },
    {
      "cell_type": "code",
      "source": [
        "my_word2vec_pretrained.wv.vocab.keys()"
      ],
      "metadata": {
        "id": "CfdqbFADjxze"
      },
      "execution_count": null,
      "outputs": []
    },
    {
      "cell_type": "code",
      "execution_count": 12,
      "metadata": {
        "id": "y9QCNJ2FuhmK"
      },
      "outputs": [],
      "source": [
        "my_word2vec_custom = word2vec.Word2Vec.load('regulationword2vec_mincount1-300.model')"
      ]
    },
    {
      "cell_type": "code",
      "execution_count": 11,
      "metadata": {
        "id": "2X0l6fS2-CdQ",
        "colab": {
          "base_uri": "https://localhost:8080/"
        },
        "outputId": "e8f685cc-63fb-4465-c386-1a241b7fe0f0"
      },
      "outputs": [
        {
          "output_type": "stream",
          "name": "stderr",
          "text": [
            "<ipython-input-11-3c6c53617c4b>:1: DeprecationWarning: Call to deprecated `wv` (Attribute will be removed in 4.0.0, use self instead).\n",
            "  pretrained_weights = torch.FloatTensor(my_word2vec_pretrained.wv.vectors)\n",
            "<ipython-input-11-3c6c53617c4b>:2: DeprecationWarning: Call to deprecated `wv` (Attribute will be removed in 4.0.0, use self instead).\n",
            "  df['pretrained'] = df['context'].map(lambda li: pd.Series(li).map(lambda word: my_word2vec_pretrained.wv.index2word.index(word) if word in my_word2vec_pretrained.wv.vocab.keys() else np.NaN))\n",
            "<ipython-input-11-3c6c53617c4b>:3: DeprecationWarning: Call to deprecated `wv` (Attribute will be removed in 4.0.0, use self instead).\n",
            "  test_df['pretrained'] = test_df['context'].map(lambda li: pd.Series(li).map(lambda word: my_word2vec_pretrained.wv.index2word.index(word) if word in my_word2vec_pretrained.wv.vocab.keys() else np.NaN))\n"
          ]
        }
      ],
      "source": [
        "pretrained_weights = torch.FloatTensor(my_word2vec_pretrained.wv.vectors)\n",
        "df['pretrained'] = df['context'].map(lambda li: pd.Series(li).map(lambda word: my_word2vec_pretrained.wv.index2word.index(word) if word in my_word2vec_pretrained.wv.vocab.keys() else np.NaN))\n",
        "test_df['pretrained'] = test_df['context'].map(lambda li: pd.Series(li).map(lambda word: my_word2vec_pretrained.wv.index2word.index(word) if word in my_word2vec_pretrained.wv.vocab.keys() else np.NaN))"
      ]
    },
    {
      "cell_type": "code",
      "source": [
        "df['pretrained'].map(lambda i: i.dropna(inplace=True))\n",
        "test_df['pretrained'].map(lambda i: i.dropna(inplace=True))"
      ],
      "metadata": {
        "colab": {
          "base_uri": "https://localhost:8080/"
        },
        "id": "ESdJMoG8o0Dz",
        "outputId": "e562dce7-dcf6-4e93-ab13-77aba0ce7410"
      },
      "execution_count": 13,
      "outputs": [
        {
          "output_type": "execute_result",
          "data": {
            "text/plain": [
              "0       None\n",
              "1       None\n",
              "2       None\n",
              "3       None\n",
              "4       None\n",
              "        ... \n",
              "4988    None\n",
              "4989    None\n",
              "4990    None\n",
              "4991    None\n",
              "4992    None\n",
              "Name: pretrained, Length: 4993, dtype: object"
            ]
          },
          "metadata": {},
          "execution_count": 13
        }
      ]
    },
    {
      "cell_type": "code",
      "source": [
        "custom_weights = torch.FloatTensor(my_word2vec_custom.wv.vectors)"
      ],
      "metadata": {
        "id": "nJudKz1FioMQ"
      },
      "execution_count": 15,
      "outputs": []
    },
    {
      "cell_type": "code",
      "execution_count": 14,
      "metadata": {
        "id": "PDXCKsAwy9V_"
      },
      "outputs": [],
      "source": [
        "df['custom_pretrained'] = df['context'].map(lambda li: pd.Series(li).map(lambda word: my_word2vec_custom.wv.index2word.index(word)))\n",
        "test_df['custom_pretrained'] = test_df['context'].map(lambda li: pd.Series(li).map(lambda word: my_word2vec_custom.wv.index2word.index(word)))"
      ]
    },
    {
      "cell_type": "code",
      "execution_count": 16,
      "metadata": {
        "id": "WHtVBa5v8gj2"
      },
      "outputs": [],
      "source": [
        "train_df, eval_df = train_test_split(df, train_size = 0.8,test_size = 0.2, random_state=42)"
      ]
    },
    {
      "cell_type": "code",
      "execution_count": 17,
      "metadata": {
        "colab": {
          "base_uri": "https://localhost:8080/"
        },
        "id": "_wEvUc7p9q_P",
        "outputId": "791fdccf-bcfc-4b36-98c9-5b4a5eaf7a1f"
      },
      "outputs": [
        {
          "output_type": "stream",
          "name": "stdout",
          "text": [
            "(7887, 384)\n",
            "(1972, 384)\n",
            "(4993, 384)\n"
          ]
        }
      ],
      "source": [
        "DOC_LEN = 384\n",
        "train_x = keras.utils.pad_sequences(train_df['pretrained'],\n",
        "                                    value=0,\n",
        "                                    padding='post',\n",
        "                                    maxlen=DOC_LEN)\n",
        "\n",
        "eval_x = keras.utils.pad_sequences(eval_df['pretrained'],\n",
        "                                    value=0,\n",
        "                                    padding='post',\n",
        "                                    maxlen=DOC_LEN)\n",
        "\n",
        "test_x = keras.utils.pad_sequences(test_df['pretrained'],\n",
        "                                    value=0,\n",
        "                                    padding='post',\n",
        "                                    maxlen=DOC_LEN)\n",
        "\n",
        "print(train_x.shape)\n",
        "print(eval_x.shape)\n",
        "print(test_x.shape)"
      ]
    },
    {
      "cell_type": "code",
      "source": [
        "DOC_LEN = 384\n",
        "cus_train_x = keras.utils.pad_sequences(train_df['custom_pretrained'],\n",
        "                                    value=0,\n",
        "                                    padding='post',\n",
        "                                    maxlen=DOC_LEN)\n",
        "\n",
        "cus_eval_x = keras.utils.pad_sequences(eval_df['custom_pretrained'],\n",
        "                                    value=0,\n",
        "                                    padding='post',\n",
        "                                    maxlen=DOC_LEN)\n",
        "\n",
        "cus_test_x = keras.utils.pad_sequences(test_df['custom_pretrained'],\n",
        "                                    value=0,\n",
        "                                    padding='post',\n",
        "                                    maxlen=DOC_LEN)\n",
        "\n",
        "print(cus_train_x.shape)\n",
        "print(cus_eval_x.shape)\n",
        "print(cus_test_x.shape)"
      ],
      "metadata": {
        "colab": {
          "base_uri": "https://localhost:8080/"
        },
        "id": "6ZPK9Tz7kYj3",
        "outputId": "e9efb71a-9975-4d1f-d981-4c53ffa66044"
      },
      "execution_count": 18,
      "outputs": [
        {
          "output_type": "stream",
          "name": "stdout",
          "text": [
            "(7887, 384)\n",
            "(1972, 384)\n",
            "(4993, 384)\n"
          ]
        }
      ]
    },
    {
      "cell_type": "code",
      "execution_count": 20,
      "metadata": {
        "id": "BOy3qk8l80Wu"
      },
      "outputs": [],
      "source": [
        "class RegulationDataset(Dataset):\n",
        "    def __init__(self, features, dataframe):\n",
        "        self.dataframe = dataframe\n",
        "        self.features = torch.IntTensor(features)\n",
        "\n",
        "    def __len__(self):\n",
        "        return len(self.dataframe)\n",
        "      \n",
        "    def __getitem__(self, index):        \n",
        "        data_row = self.dataframe.iloc[index]\n",
        "\n",
        "        labels = data_row[label_cols]\n",
        "\n",
        "        return self.features[index], torch.FloatTensor(labels)\n",
        "\n",
        "class RegulationTestDataset(Dataset):\n",
        "    def __init__(self, features):\n",
        "        self.features = torch.IntTensor(features)\n",
        "\n",
        "    def __len__(self):\n",
        "        return len(self.features)\n",
        "      \n",
        "    def __getitem__(self, index):        \n",
        "        return self.features[index]\n",
        "\n",
        "# datasets\n",
        "train_dataset = RegulationDataset(train_x, train_df)\n",
        "\n",
        "eval_dataset = RegulationDataset(eval_x, eval_df)\n",
        "\n",
        "test_dataset = RegulationTestDataset(test_x)\n",
        "\n",
        "cus_train_dataset = RegulationDataset(cus_train_x, train_df)\n",
        "\n",
        "cus_eval_dataset = RegulationDataset(cus_eval_x, eval_df)\n",
        "\n",
        "cus_test_dataset = RegulationTestDataset(cus_test_x)"
      ]
    },
    {
      "cell_type": "code",
      "execution_count": 21,
      "metadata": {
        "id": "xE6Saoc39-md"
      },
      "outputs": [],
      "source": [
        "class TextCNN(nn.Module):\n",
        "    def __init__(self, weights, embedding_dim, out_channels, dropout_ratio):\n",
        "        super(TextCNN, self).__init__()\n",
        "        self.weights = weights\n",
        "        self.embedding_dim = embedding_dim\n",
        "        self.dropout_ratio = dropout_ratio\n",
        "        \n",
        "        # embedding\n",
        "        self.embedding = nn.Embedding.from_pretrained(self.weights)  # (-1, DOC_LEN, embedding_dim), num_embedding: embedding dict size, embedding_dim: length of embedding vector\n",
        "        \n",
        "        # 1D CNN\n",
        "        # unigram\n",
        "        self.unigram = nn.Sequential(# input (-1, embedding_dim, DOC_LEN)\n",
        "        nn.Conv1d(in_channels=embedding_dim, out_channels=out_channels, kernel_size=2),  # (-1, 64, DOC_LEN)\n",
        "        nn.ReLU(),\n",
        "        nn.MaxPool1d(kernel_size=DOC_LEN - 2 + 1),  # (-1, 64, 1)\n",
        "        nn.Flatten()  # (-1, 64 * 1)\n",
        "        )\n",
        "        # bigram\n",
        "        self.bigram = nn.Sequential(# input (-1, embedding_dim, DOC_LEN)\n",
        "        nn.Conv1d(in_channels=embedding_dim, out_channels=out_channels, kernel_size=3),  # (-1, 64, DOC_LEN-2+1) ??? why DOC_LEN - 2 + 1\n",
        "        nn.ReLU(),\n",
        "        nn.MaxPool1d(kernel_size=DOC_LEN - 3 + 1),  # (-1, 64, 1)\n",
        "        nn.Flatten()  # (-1, 64 * 1)\n",
        "        )\n",
        "        # trigram\n",
        "        self.trigram = nn.Sequential(# input (-1, embedding_dim, DOC_LEN)\n",
        "        nn.Conv1d(in_channels=embedding_dim, out_channels=out_channels, kernel_size=4),  # (-1, 64, DOC_LEN-3+1)\n",
        "        nn.ReLU(),\n",
        "        nn.MaxPool1d(kernel_size=DOC_LEN - 4 + 1),  # (-1, 16, 7)\n",
        "        nn.Flatten()  # (-1, 64 * 1)\n",
        "        )\n",
        "        # simple classifier\n",
        "        self.classifier = nn.Sequential(\n",
        "            nn.Dropout(dropout_ratio),\n",
        "            nn.Linear(in_features=out_channels*3, out_features=50)\n",
        "        )\n",
        "    def forward(self, x):\n",
        "        # get embedding\n",
        "        x = self.embedding(x)\n",
        "        # make sure we are convolving on each word\n",
        "        x = torch.transpose(x, dim0=1, dim1=2)  # (-1, DOC_LEN, embedding_dim): embedding on 1(DOC_LEN) & 2(embedding_dim) dims\n",
        "        # 1d cnn output\n",
        "        uni_gram_output = self.unigram(x)\n",
        "        bi_gram_output = self.bigram(x)\n",
        "        tri_gram_output = self.trigram(x)\n",
        "\n",
        "        # concatenate\n",
        "        x = torch.cat((uni_gram_output, bi_gram_output, tri_gram_output), dim=1)\n",
        "        # classifier\n",
        "        x = self.classifier(x)\n",
        "\n",
        "        return x"
      ]
    },
    {
      "cell_type": "code",
      "execution_count": 22,
      "metadata": {
        "id": "OJ147kAs-kUW"
      },
      "outputs": [],
      "source": [
        "def train_model(model, train_dataset, test_dataset, device, lr=0.0001, epochs=20, batch_size=32):\n",
        "    # construct dataloader\n",
        "    train_loader = DataLoader(train_dataset, batch_size=batch_size, shuffle=True)\n",
        "    test_loader = DataLoader(test_dataset, batch_size=batch_size, shuffle=True)\n",
        "\n",
        "    # move model to device\n",
        "    model = model.to(device)\n",
        "\n",
        "    # history\n",
        "    history = {'train_loss': [],\n",
        "               'train_acc': [],\n",
        "               'test_loss': [],\n",
        "               'test_acc': []}\n",
        "\n",
        "    # setup loss function and optimizer\n",
        "    criterion = nn.BCEWithLogitsLoss()\n",
        "    optimizer = torch.optim.Adam(model.parameters(), lr=lr, weight_decay=0.0005)\n",
        "\n",
        "    # training loop\n",
        "    print('Training Start')\n",
        "    for epoch in range(epochs):\n",
        "        model.train()\n",
        "        train_loss = 0\n",
        "        train_acc = 0\n",
        "        test_loss = 0\n",
        "        test_acc = 0\n",
        "        for x, y in train_loader:\n",
        "            # move data to device\n",
        "            x = x.to(device)\n",
        "            y = y.to(device)\n",
        "            # forward\n",
        "            outputs = model(x)\n",
        "            pred = torch.round(torch.sigmoid(outputs))\n",
        "            cur_train_loss = criterion(outputs, y)\n",
        "            cur_train_acc = (pred == y).float().mean().item() \n",
        "            # backward\n",
        "            cur_train_loss.backward()\n",
        "            optimizer.step()\n",
        "            optimizer.zero_grad()\n",
        "            # loss and acc\n",
        "            train_loss += cur_train_loss\n",
        "            train_acc += cur_train_acc\n",
        "\n",
        "        # test start\n",
        "        model.eval()\n",
        "        with torch.no_grad():\n",
        "            for x, y in test_loader:\n",
        "                # move\n",
        "                x = x.to(device)\n",
        "                y = y.to(device)\n",
        "                # predict\n",
        "                outputs = model(x)\n",
        "                pred = torch.round(torch.sigmoid(outputs))\n",
        "                cur_test_loss = criterion(outputs, y)\n",
        "                cur_test_acc = (pred == y).float().mean().item() \n",
        "                # loss and acc\n",
        "                test_loss += cur_test_loss\n",
        "                test_acc += cur_test_acc\n",
        "\n",
        "        # epoch output\n",
        "        train_loss = (train_loss/len(train_loader)).item()\n",
        "        train_acc = train_acc/len(train_loader)\n",
        "        val_loss = (test_loss/len(test_loader)).item()\n",
        "        val_acc = test_acc/len(test_loader)\n",
        "        history['train_loss'].append(train_loss)\n",
        "        history['train_acc'].append(train_acc)\n",
        "        history['test_loss'].append(val_loss)\n",
        "        history['test_acc'].append(val_acc)\n",
        "        print(f\"Epoch:{epoch + 1} / {epochs}, train loss:{train_loss:.4f} train_acc:{train_acc:.4f}, valid loss:{val_loss:.4f} valid acc:{val_acc:.5f}\")\n",
        "    \n",
        "    return history"
      ]
    },
    {
      "cell_type": "code",
      "execution_count": 23,
      "metadata": {
        "id": "LFAtJvKA-E0S"
      },
      "outputs": [],
      "source": [
        "model=TextCNN(pretrained_weights,100,1024,0.3)"
      ]
    },
    {
      "cell_type": "code",
      "source": [
        "cus_model=TextCNN(custom_weights,300,1024,0.3)"
      ],
      "metadata": {
        "id": "fBDmmeo8lsDT"
      },
      "execution_count": 24,
      "outputs": []
    },
    {
      "cell_type": "code",
      "execution_count": 25,
      "metadata": {
        "id": "2nI2Yj4I-orO"
      },
      "outputs": [],
      "source": [
        "device = torch.device(\"cuda\" if torch.cuda.is_available() else \"cpu\")"
      ]
    },
    {
      "cell_type": "code",
      "source": [
        "pre_history = train_model(model=model,\n",
        "                      train_dataset=train_dataset,\n",
        "                      test_dataset=eval_dataset,\n",
        "                      device=device,\n",
        "                      lr=0.005,\n",
        "                      epochs=10,\n",
        "                      batch_size=64)"
      ],
      "metadata": {
        "colab": {
          "base_uri": "https://localhost:8080/"
        },
        "id": "J079hKpEnfFO",
        "outputId": "8954a40b-1099-4ebb-fc8d-772b4e87c71c"
      },
      "execution_count": 27,
      "outputs": [
        {
          "output_type": "stream",
          "name": "stdout",
          "text": [
            "Training Start\n",
            "Epoch:1 / 10, train loss:0.3113 train_acc:0.9068, valid loss:0.2136 valid acc:0.92763\n",
            "Epoch:2 / 10, train loss:0.1882 train_acc:0.9338, valid loss:0.1774 valid acc:0.93587\n",
            "Epoch:3 / 10, train loss:0.1687 train_acc:0.9395, valid loss:0.1603 valid acc:0.94425\n",
            "Epoch:4 / 10, train loss:0.1620 train_acc:0.9415, valid loss:0.1562 valid acc:0.94475\n",
            "Epoch:5 / 10, train loss:0.1586 train_acc:0.9430, valid loss:0.1558 valid acc:0.94518\n",
            "Epoch:6 / 10, train loss:0.1558 train_acc:0.9439, valid loss:0.1523 valid acc:0.94560\n",
            "Epoch:7 / 10, train loss:0.1549 train_acc:0.9440, valid loss:0.1518 valid acc:0.94273\n",
            "Epoch:8 / 10, train loss:0.1537 train_acc:0.9444, valid loss:0.1484 valid acc:0.94661\n",
            "Epoch:9 / 10, train loss:0.1538 train_acc:0.9443, valid loss:0.1529 valid acc:0.94702\n",
            "Epoch:10 / 10, train loss:0.1534 train_acc:0.9447, valid loss:0.1522 valid acc:0.94495\n"
          ]
        }
      ]
    },
    {
      "cell_type": "code",
      "source": [
        "cus_history = train_model(model=cus_model,\n",
        "                      train_dataset=cus_train_dataset,\n",
        "                      test_dataset=cus_eval_dataset,\n",
        "                      device=device,\n",
        "                      lr=0.005,\n",
        "                      epochs=10,\n",
        "                      batch_size=64)"
      ],
      "metadata": {
        "colab": {
          "base_uri": "https://localhost:8080/"
        },
        "id": "mv7rGY7Ol-u4",
        "outputId": "195c3da3-aaed-412d-d75b-8bd31d5f08c2"
      },
      "execution_count": 28,
      "outputs": [
        {
          "output_type": "stream",
          "name": "stdout",
          "text": [
            "Training Start\n",
            "Epoch:1 / 10, train loss:0.2578 train_acc:0.9173, valid loss:0.1825 valid acc:0.94104\n",
            "Epoch:2 / 10, train loss:0.1559 train_acc:0.9446, valid loss:0.1456 valid acc:0.94661\n",
            "Epoch:3 / 10, train loss:0.1415 train_acc:0.9490, valid loss:0.1371 valid acc:0.95000\n",
            "Epoch:4 / 10, train loss:0.1374 train_acc:0.9507, valid loss:0.1337 valid acc:0.95057\n",
            "Epoch:5 / 10, train loss:0.1353 train_acc:0.9515, valid loss:0.1382 valid acc:0.94923\n",
            "Epoch:6 / 10, train loss:0.1344 train_acc:0.9517, valid loss:0.1316 valid acc:0.95413\n",
            "Epoch:7 / 10, train loss:0.1344 train_acc:0.9518, valid loss:0.1294 valid acc:0.95429\n",
            "Epoch:8 / 10, train loss:0.1332 train_acc:0.9518, valid loss:0.1348 valid acc:0.95333\n",
            "Epoch:9 / 10, train loss:0.1327 train_acc:0.9523, valid loss:0.1351 valid acc:0.94970\n",
            "Epoch:10 / 10, train loss:0.1320 train_acc:0.9524, valid loss:0.1345 valid acc:0.95318\n"
          ]
        }
      ]
    },
    {
      "cell_type": "code",
      "source": [
        "plt.plot(range(1, 11), pre_history['test_loss'],'b-', label='Evaluation')\n",
        "plt.plot(range(1, 11), pre_history['train_loss'],'r-', label='Train')\n",
        "plt.xlabel('Epochs')\n",
        "plt.ylabel('Loss')\n",
        "plt.legend()\n",
        "plt.title(\"Loss\")\n",
        "plt.show()"
      ],
      "metadata": {
        "colab": {
          "base_uri": "https://localhost:8080/",
          "height": 295
        },
        "id": "pkDZ95BJ-GTn",
        "outputId": "23d694bc-6d18-4c81-8f57-43c8b22d3262"
      },
      "execution_count": 29,
      "outputs": [
        {
          "output_type": "display_data",
          "data": {
            "text/plain": [
              "<Figure size 432x288 with 1 Axes>"
            ],
            "image/png": "[encoded data removed]"
          },
          "metadata": {
            "needs_background": "light"
          }
        }
      ]
    },
    {
      "cell_type": "code",
      "source": [
        "plt.plot(range(1, 11), cus_history['test_loss'],'b-', label='Evaluation')\n",
        "plt.plot(range(1, 11), cus_history['train_loss'],'r-', label='Train')\n",
        "plt.xlabel('Epochs')\n",
        "plt.ylabel('Loss')\n",
        "plt.legend()\n",
        "plt.title(\"Loss\")\n",
        "plt.show()"
      ],
      "metadata": {
        "colab": {
          "base_uri": "https://localhost:8080/",
          "height": 295
        },
        "id": "UZ4k2ibfmp33",
        "outputId": "ca1706fd-bc3e-4872-f7d3-2f5c1ec3fd26"
      },
      "execution_count": 31,
      "outputs": [
        {
          "output_type": "display_data",
          "data": {
            "text/plain": [
              "<Figure size 432x288 with 1 Axes>"
            ],
            "image/png": "[encoded data removed]"
          },
          "metadata": {
            "needs_background": "light"
          }
        }
      ]
    },
    {
      "cell_type": "code",
      "source": [
        "plt.plot(range(1, 11), pre_history['test_acc'],'b-', label='Evaluation')\n",
        "plt.plot(range(1, 11), pre_history['train_acc'],'r-', label='Train')\n",
        "plt.xlabel('Epochs')\n",
        "plt.ylabel('Accuracy')\n",
        "plt.legend()\n",
        "plt.title(\"Accuracy\")\n",
        "plt.show()"
      ],
      "metadata": {
        "colab": {
          "base_uri": "https://localhost:8080/",
          "height": 295
        },
        "id": "65oQUZH6-5kN",
        "outputId": "157cc00c-158f-41a9-b7b4-92495291417e"
      },
      "execution_count": 96,
      "outputs": [
        {
          "output_type": "display_data",
          "data": {
            "text/plain": [
              "<Figure size 432x288 with 1 Axes>"
            ],
            "image/png": "[encoded data removed]"
          },
          "metadata": {
            "needs_background": "light"
          }
        }
      ]
    },
    {
      "cell_type": "code",
      "source": [
        "plt.plot(range(1, 11), cus_history['test_acc'],'b-', label='Evaluation')\n",
        "plt.plot(range(1, 11), cus_history['train_acc'],'r-', label='Train')\n",
        "plt.xlabel('Epochs')\n",
        "plt.ylabel('Accuracy')\n",
        "plt.legend()\n",
        "plt.title(\"Accuracy\")\n",
        "plt.show()"
      ],
      "metadata": {
        "colab": {
          "base_uri": "https://localhost:8080/",
          "height": 295
        },
        "id": "ZT4E8LEAmjjs",
        "outputId": "a61f71ab-3fd0-4370-ea11-26faba54d79c"
      },
      "execution_count": 30,
      "outputs": [
        {
          "output_type": "display_data",
          "data": {
            "text/plain": [
              "<Figure size 432x288 with 1 Axes>"
            ],
            "image/png": "[encoded data removed]"
          },
          "metadata": {
            "needs_background": "light"
          }
        }
      ]
    }
  ],
  "metadata": {
    "colab": {
      "provenance": []
    },
    "gpuClass": "standard",
    "kernelspec": {
      "display_name": "Python 3",
      "name": "python3"
    },
    "language_info": {
      "name": "python"
    },
    "accelerator": "GPU"
  },
  "nbformat": 4,
  "nbformat_minor": 0
}
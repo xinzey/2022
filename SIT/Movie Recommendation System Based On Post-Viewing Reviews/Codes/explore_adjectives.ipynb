{
 "cells": [
  {
   "cell_type": "code",
   "execution_count": 1,
   "metadata": {},
   "outputs": [
    {
     "name": "stderr",
     "output_type": "stream",
     "text": [
      "[nltk_data] Downloading package stopwords to /Users/Kenny/nltk_data...\n",
      "[nltk_data]   Package stopwords is already up-to-date!\n",
      "[nltk_data] Downloading package punkt to /Users/Kenny/nltk_data...\n",
      "[nltk_data]   Package punkt is already up-to-date!\n",
      "[nltk_data] Downloading package wordnet to /Users/Kenny/nltk_data...\n",
      "[nltk_data]   Package wordnet is already up-to-date!\n"
     ]
    }
   ],
   "source": [
    "import pandas as pd\n",
    "import numpy as np\n",
    "from sklearn.feature_extraction.text import CountVectorizer\n",
    "from nltk.corpus import stopwords\n",
    "from sklearn.metrics.pairwise import cosine_similarity\n",
    "import text2emotion as te\n",
    "import tkinter as tk"
   ]
  },
  {
   "cell_type": "code",
   "execution_count": 2,
   "metadata": {},
   "outputs": [],
   "source": [
    "movie_df = pd.read_csv(\"data_adjs.csv\")"
   ]
  },
  {
   "cell_type": "code",
   "execution_count": 3,
   "metadata": {},
   "outputs": [],
   "source": [
    "# Combine all reviews' adjectives belonging to one same movie\n",
    "movie_adj= movie_df.groupby('movieId').apply(lambda x: x['adjectives_merge'].values).to_frame(name=\"adj\")\n",
    "movie_adj.reset_index(inplace=True)"
   ]
  },
  {
   "cell_type": "code",
   "execution_count": 4,
   "metadata": {},
   "outputs": [],
   "source": [
    "# Define the function to drop duplicate, merge list and drop stopwords.\n",
    "def merge_list(list_):\n",
    "    return ' '.join(list_)\n",
    "\n",
    "def drop_duplicate(adj_list):\n",
    "    return list(set(adj_list.split(' ')))\n",
    "\n",
    "def drop_stop(_list):\n",
    "    drop_list = ['much', 'first', 'many', 'non', 'human', 'last', 'main', 'sure', 'full', \\\n",
    "                 'anti', 'top', 'whole', 'little', 'able', 'true', 'hard', 'final', 'second', \\\n",
    "                 'entire','long', 'year', 'big', 'small', 'several', 'short','overall', 'next', \\\n",
    "                 'obvious', 'self', 'right', 'actual']\n",
    "    stop = list(stopwords.words('english')) + drop_list\n",
    "    \n",
    "    return list(set(_list)-set(stop))"
   ]
  },
  {
   "cell_type": "code",
   "execution_count": 5,
   "metadata": {},
   "outputs": [],
   "source": [
    "# Creating new column with targets we want using apply and function.\n",
    "movie_adj['adjectives_merge'] = movie_adj['adj'].apply(merge_list)\n",
    "\n",
    "movie_adj['adjectives_set'] = movie_adj['adjectives_merge'].apply(drop_duplicate)\n",
    "\n",
    "movie_adj['adjectives_with_drop'] = movie_adj['adjectives_set'].apply(drop_stop)\n",
    "\n",
    "movie_adj['adjectives_with_drop_merge'] = movie_adj['adjectives_with_drop'].apply(merge_list)"
   ]
  },
  {
   "cell_type": "code",
   "execution_count": 9,
   "metadata": {},
   "outputs": [],
   "source": [
    "# Define the function of get emotion.\n",
    "def get_emotion(sentence):\n",
    "    e = te.get_emotion(sentence)\n",
    "    return max(e, key = e.get)"
   ]
  },
  {
   "cell_type": "code",
   "execution_count": 10,
   "metadata": {},
   "outputs": [
    {
     "data": {
      "text/plain": [
       "Happy    222\n",
       "Fear      22\n",
       "Sad        6\n",
       "Name: label, dtype: int64"
      ]
     },
     "execution_count": 10,
     "metadata": {},
     "output_type": "execute_result"
    }
   ],
   "source": [
    "# Calculate the sentiment.\n",
    "movie_adj['label'] = movie_adj['adjectives_merge'].apply(get_emotion)\n",
    "movie_adj['label'].value_counts()"
   ]
  },
  {
   "cell_type": "code",
   "execution_count": 11,
   "metadata": {},
   "outputs": [],
   "source": [
    "# Read the movie name file and add it to our dataframe.\n",
    "movie_list= pd.read_csv(\"top_movie_list.csv\")\n",
    "\n",
    "sorted_df = movie_list.sort_values(by=['movieId'])\n",
    "sort_df = sorted_df.reset_index()\n",
    "movie_adj['movieName'] = sort_df['movieName']"
   ]
  },
  {
   "cell_type": "code",
   "execution_count": 46,
   "metadata": {},
   "outputs": [
    {
     "data": {
      "text/html": [
       "<div>\n",
       "<style scoped>\n",
       "    .dataframe tbody tr th:only-of-type {\n",
       "        vertical-align: middle;\n",
       "    }\n",
       "\n",
       "    .dataframe tbody tr th {\n",
       "        vertical-align: top;\n",
       "    }\n",
       "\n",
       "    .dataframe thead th {\n",
       "        text-align: right;\n",
       "    }\n",
       "</style>\n",
       "<table border=\"1\" class=\"dataframe\">\n",
       "  <thead>\n",
       "    <tr style=\"text-align: right;\">\n",
       "      <th></th>\n",
       "      <th>movieId</th>\n",
       "      <th>adj</th>\n",
       "      <th>adjectives_merge</th>\n",
       "      <th>adjectives_set</th>\n",
       "      <th>adjectives_with_drop</th>\n",
       "      <th>adjectives_with_drop_merge</th>\n",
       "      <th>label</th>\n",
       "      <th>movieName</th>\n",
       "    </tr>\n",
       "  </thead>\n",
       "  <tbody>\n",
       "    <tr>\n",
       "      <th>0</th>\n",
       "      <td>12349</td>\n",
       "      <td>[great unsentimental latter soft-shoe physical...</td>\n",
       "      <td>great unsentimental latter soft-shoe physical ...</td>\n",
       "      <td>[analogous, perfect, artistic, evident, hyster...</td>\n",
       "      <td>[analogous, hysterical, artistic, evident, per...</td>\n",
       "      <td>analogous hysterical artistic evident perfect ...</td>\n",
       "      <td>Happy</td>\n",
       "      <td>The Kid</td>\n",
       "    </tr>\n",
       "    <tr>\n",
       "      <th>1</th>\n",
       "      <td>15324</td>\n",
       "      <td>[surreal dazzling original perfect dream-like ...</td>\n",
       "      <td>surreal dazzling original perfect dream-like f...</td>\n",
       "      <td>[incorrect, perfect, artistic, favourite, hyst...</td>\n",
       "      <td>[incorrect, perfect, artistic, favourite, hyst...</td>\n",
       "      <td>incorrect perfect artistic favourite hysterica...</td>\n",
       "      <td>Happy</td>\n",
       "      <td>Sherlock Jr.</td>\n",
       "    </tr>\n",
       "    <tr>\n",
       "      <th>2</th>\n",
       "      <td>15864</td>\n",
       "      <td>[famous hard young only tough memorable amusin...</td>\n",
       "      <td>famous hard young only tough memorable amusing...</td>\n",
       "      <td>[vivid, unsuccessful, perfect, artistic, evide...</td>\n",
       "      <td>[vivid, unsuccessful, perfect, artistic, evide...</td>\n",
       "      <td>vivid unsuccessful perfect artistic evident im...</td>\n",
       "      <td>Happy</td>\n",
       "      <td>The Gold Rush</td>\n",
       "    </tr>\n",
       "    <tr>\n",
       "      <th>3</th>\n",
       "      <td>17136</td>\n",
       "      <td>[social underground dominant upper necessary o...</td>\n",
       "      <td>social underground dominant upper necessary ot...</td>\n",
       "      <td>[structural, minute, indelible, incorrect, cou...</td>\n",
       "      <td>[minute, incorrect, couple, favourite, artisti...</td>\n",
       "      <td>minute incorrect couple favourite artistic liv...</td>\n",
       "      <td>Happy</td>\n",
       "      <td>Metropolis</td>\n",
       "    </tr>\n",
       "    <tr>\n",
       "      <th>4</th>\n",
       "      <td>17925</td>\n",
       "      <td>[straightforward clever good valuable sad unbe...</td>\n",
       "      <td>straightforward clever good valuable sad unbel...</td>\n",
       "      <td>[minute, what-do-critics-know, perfect, brief,...</td>\n",
       "      <td>[minute, what-do-critics-know, favourite, perf...</td>\n",
       "      <td>minute what-do-critics-know favourite perfect ...</td>\n",
       "      <td>Happy</td>\n",
       "      <td>The General</td>\n",
       "    </tr>\n",
       "  </tbody>\n",
       "</table>\n",
       "</div>"
      ],
      "text/plain": [
       "   movieId                                                adj  \\\n",
       "0    12349  [great unsentimental latter soft-shoe physical...   \n",
       "1    15324  [surreal dazzling original perfect dream-like ...   \n",
       "2    15864  [famous hard young only tough memorable amusin...   \n",
       "3    17136  [social underground dominant upper necessary o...   \n",
       "4    17925  [straightforward clever good valuable sad unbe...   \n",
       "\n",
       "                                    adjectives_merge  \\\n",
       "0  great unsentimental latter soft-shoe physical ...   \n",
       "1  surreal dazzling original perfect dream-like f...   \n",
       "2  famous hard young only tough memorable amusing...   \n",
       "3  social underground dominant upper necessary ot...   \n",
       "4  straightforward clever good valuable sad unbel...   \n",
       "\n",
       "                                      adjectives_set  \\\n",
       "0  [analogous, perfect, artistic, evident, hyster...   \n",
       "1  [incorrect, perfect, artistic, favourite, hyst...   \n",
       "2  [vivid, unsuccessful, perfect, artistic, evide...   \n",
       "3  [structural, minute, indelible, incorrect, cou...   \n",
       "4  [minute, what-do-critics-know, perfect, brief,...   \n",
       "\n",
       "                                adjectives_with_drop  \\\n",
       "0  [analogous, hysterical, artistic, evident, per...   \n",
       "1  [incorrect, perfect, artistic, favourite, hyst...   \n",
       "2  [vivid, unsuccessful, perfect, artistic, evide...   \n",
       "3  [minute, incorrect, couple, favourite, artisti...   \n",
       "4  [minute, what-do-critics-know, favourite, perf...   \n",
       "\n",
       "                          adjectives_with_drop_merge  label      movieName  \n",
       "0  analogous hysterical artistic evident perfect ...  Happy        The Kid  \n",
       "1  incorrect perfect artistic favourite hysterica...  Happy   Sherlock Jr.  \n",
       "2  vivid unsuccessful perfect artistic evident im...  Happy  The Gold Rush  \n",
       "3  minute incorrect couple favourite artistic liv...  Happy     Metropolis  \n",
       "4  minute what-do-critics-know favourite perfect ...  Happy    The General  "
      ]
     },
     "execution_count": 46,
     "metadata": {},
     "output_type": "execute_result"
    }
   ],
   "source": [
    "movie_adj.head()"
   ]
  },
  {
   "cell_type": "code",
   "execution_count": 44,
   "metadata": {},
   "outputs": [
    {
     "data": {
      "text/plain": [
       "[('great', 12701),\n",
       " ('good', 11508),\n",
       " ('real', 5145),\n",
       " ('old', 4017),\n",
       " ('young', 3548),\n",
       " ('new', 3425),\n",
       " ('bad', 3389),\n",
       " ('different', 3350),\n",
       " ('perfect', 3214),\n",
       " ('beautiful', 2765),\n",
       " ('classic', 2579),\n",
       " ('excellent', 2517),\n",
       " ('original', 2445),\n",
       " ('brilliant', 2284),\n",
       " ('amazing', 2251),\n",
       " ('wonderful', 2208),\n",
       " ('funny', 2078),\n",
       " ('interesting', 2076),\n",
       " ('special', 1999),\n",
       " ('American', 1979)]"
      ]
     },
     "execution_count": 44,
     "metadata": {},
     "output_type": "execute_result"
    }
   ],
   "source": [
    "# find most common adjs in all movies\n",
    "k = []\n",
    "for i in movie_adj['adj']:\n",
    "    k+=list(i)\n",
    "\n",
    "l = merge_list(k).split(' ')\n",
    "j = []\n",
    "for i in l:\n",
    "    if i not in stop:\n",
    "        j.append(i)\n",
    "        \n",
    "from collections import Counter\n",
    "Counter(j).most_common(20)"
   ]
  },
  {
   "cell_type": "code",
   "execution_count": 13,
   "metadata": {},
   "outputs": [],
   "source": [
    "movie_adj.to_csv('processed_data_adjs.csv')"
   ]
  },
  {
   "cell_type": "code",
   "execution_count": null,
   "metadata": {},
   "outputs": [],
   "source": []
  }
 ],
 "metadata": {
  "kernelspec": {
   "display_name": "Python 3",
   "language": "python",
   "name": "python3"
  },
  "language_info": {
   "codemirror_mode": {
    "name": "ipython",
    "version": 3
   },
   "file_extension": ".py",
   "mimetype": "text/x-python",
   "name": "python",
   "nbconvert_exporter": "python",
   "pygments_lexer": "ipython3",
   "version": "3.8.5"
  }
 },
 "nbformat": 4,
 "nbformat_minor": 5
}

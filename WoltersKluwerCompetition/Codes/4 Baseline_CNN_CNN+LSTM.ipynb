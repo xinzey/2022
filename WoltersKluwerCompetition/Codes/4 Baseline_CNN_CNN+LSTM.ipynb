{
  "cells": [
    {
      "cell_type": "code",
      "execution_count": 1,
      "metadata": {
        "colab": {
          "base_uri": "https://localhost:8080/"
        },
        "id": "7bc9nioB-HmF",
        "outputId": "e11dff9a-eca4-47fc-9041-24e4c48ace84"
      },
      "outputs": [
        {
          "output_type": "stream",
          "name": "stdout",
          "text": [
            "Looking in indexes: https://pypi.org/simple, https://us-python.pkg.dev/colab-wheels/public/simple/\n",
            "Collecting torchinfo\n",
            "  Downloading torchinfo-1.7.1-py3-none-any.whl (22 kB)\n",
            "Installing collected packages: torchinfo\n",
            "Successfully installed torchinfo-1.7.1\n"
          ]
        }
      ],
      "source": [
        "pip install torchinfo"
      ]
    },
    {
      "cell_type": "code",
      "execution_count": 2,
      "metadata": {
        "colab": {
          "base_uri": "https://localhost:8080/"
        },
        "id": "m9ocpH9IscrS",
        "outputId": "9776826f-4423-4f6d-f809-fa262fb9086f"
      },
      "outputs": [
        {
          "output_type": "stream",
          "name": "stderr",
          "text": [
            "[nltk_data] Downloading package stopwords to /root/nltk_data...\n",
            "[nltk_data]   Unzipping corpora/stopwords.zip.\n",
            "[nltk_data] Downloading package punkt to /root/nltk_data...\n",
            "[nltk_data]   Unzipping tokenizers/punkt.zip.\n"
          ]
        },
        {
          "output_type": "execute_result",
          "data": {
            "text/plain": [
              "True"
            ]
          },
          "metadata": {},
          "execution_count": 2
        }
      ],
      "source": [
        "import os\n",
        "import numpy as np\n",
        "import pandas as pd\n",
        "import torch\n",
        "import torch.nn as nn\n",
        "import nltk\n",
        "import keras  # only for loading the dataset and preprocessing\n",
        "import keras_preprocessing\n",
        "import matplotlib.pyplot as plt\n",
        "from torch.utils.data import Dataset, DataLoader, random_split\n",
        "from gensim.models import word2vec, KeyedVectors\n",
        "from sklearn.model_selection import train_test_split\n",
        "import gensim.downloader\n",
        "import re\n",
        "from nltk.corpus import stopwords\n",
        "import time\n",
        "from torchinfo import summary\n",
        "nltk.download('stopwords')\n",
        "nltk.download('punkt')"
      ]
    },
    {
      "cell_type": "code",
      "execution_count": 3,
      "metadata": {
        "id": "RTH0aTWKtc4R",
        "colab": {
          "base_uri": "https://localhost:8080/"
        },
        "outputId": "eabeb17a-8261-4ea4-a221-c125e8179ef6"
      },
      "outputs": [
        {
          "output_type": "stream",
          "name": "stdout",
          "text": [
            "Drive already mounted at /content/drive; to attempt to forcibly remount, call drive.mount(\"/content/drive\", force_remount=True).\n"
          ]
        },
        {
          "output_type": "execute_result",
          "data": {
            "text/plain": [
              "['data',\n",
              " 'regulationword2vec_mincount1-300.model',\n",
              " 'output',\n",
              " 'pretrained_data_for_CNN_LSTM.csv',\n",
              " 'pretrained_test_data_for_CNN_LSTM.csv',\n",
              " 'TFIDF_Sklearn_SVC_NB_LR.ipynb',\n",
              " 'Pretrained_Bert_Pytrochlightning.ipynb',\n",
              " 'answer_w2vcnnlstm.csv',\n",
              " 'CNN+DenseLayer.ipynb',\n",
              " 'Copy of BOW_NAIVE_BASELINE_model.ipynb',\n",
              " 'BOW_NAIVE_BASELINE_model.ipynb',\n",
              " 'Embedding+CNN+DenseLayer.ipynb',\n",
              " 'CNN+LSTM+DenseLayer.ipynb']"
            ]
          },
          "metadata": {},
          "execution_count": 3
        }
      ],
      "source": [
        "# connect to google drive\n",
        "import os\n",
        "from google.colab import drive\n",
        "drive.mount('/content/drive')\n",
        "\n",
        "path = \"/content/drive/MyDrive/SIT coursework/667 Homeworks/Final Project\"\n",
        "\n",
        "os.chdir(path)\n",
        "os.listdir(path)"
      ]
    },
    {
      "cell_type": "code",
      "execution_count": 4,
      "metadata": {
        "id": "tLxWmUgut8zE"
      },
      "outputs": [],
      "source": [
        "df = pd.read_csv('./data/train_final.csv')\n",
        "df.drop('Unnamed: 0', axis =1, inplace = True)\n",
        "df['context'] = df['name'] + '. ' + df['document_text']\n",
        "\n",
        "test_df = pd.read_csv('./data/test.csv')\n",
        "test_df['context'] = test_df['name'] + '. ' + test_df['document_text']"
      ]
    },
    {
      "cell_type": "code",
      "execution_count": 5,
      "metadata": {
        "id": "Lf0HVvnzuCxb",
        "colab": {
          "base_uri": "https://localhost:8080/"
        },
        "outputId": "1b6c0c23-d3bb-4966-acad-80ba762cb1dd"
      },
      "outputs": [
        {
          "output_type": "execute_result",
          "data": {
            "text/plain": [
              "['Accounting and Finance',\n",
              " 'Antitrust',\n",
              " 'Banking',\n",
              " 'Broker Dealer',\n",
              " 'Commodities Trading',\n",
              " 'Compliance Management',\n",
              " 'Consumer protection',\n",
              " 'Contract Provisions',\n",
              " 'Corporate Communications',\n",
              " 'Corporate Governance',\n",
              " 'Definitions',\n",
              " 'Delivery',\n",
              " 'Examinations',\n",
              " 'Exemptions',\n",
              " 'Fees and Charges',\n",
              " 'Financial Accounting',\n",
              " 'Financial Crime',\n",
              " 'Forms',\n",
              " 'Fraud',\n",
              " 'IT Risk',\n",
              " 'Information Filing',\n",
              " 'Insurance',\n",
              " 'Legal',\n",
              " 'Legal Proceedings',\n",
              " 'Licensing',\n",
              " 'Licensure and certification',\n",
              " 'Liquidity Risk',\n",
              " 'Listing',\n",
              " 'Market Abuse',\n",
              " 'Market Risk',\n",
              " 'Monetary and Economic Policy',\n",
              " 'Money Services',\n",
              " 'Money-Laundering and Terrorist Financing',\n",
              " 'Natural Disasters',\n",
              " 'Payments and Settlements',\n",
              " 'Powers and Duties',\n",
              " 'Quotation',\n",
              " 'Records Maintenance',\n",
              " 'Regulatory Actions',\n",
              " 'Regulatory Reporting',\n",
              " 'Required Disclosures',\n",
              " 'Research',\n",
              " 'Risk Management',\n",
              " 'Securities Clearing',\n",
              " 'Securities Issuing',\n",
              " 'Securities Management',\n",
              " 'Securities Sales',\n",
              " 'Securities Settlement',\n",
              " 'Trade Pricing',\n",
              " 'Trade Settlement']"
            ]
          },
          "metadata": {},
          "execution_count": 5
        }
      ],
      "source": [
        "# generate target columns\n",
        "label_cols = [col for col in df.columns if col not in ['id', 'name', 'document_text', 'context']]\n",
        "label_cols"
      ]
    },
    {
      "cell_type": "code",
      "execution_count": 6,
      "metadata": {
        "id": "iXvwLlYAuGpd",
        "colab": {
          "base_uri": "https://localhost:8080/",
          "height": 354
        },
        "outputId": "7fed2f8a-8249-4152-c710-32fb7c166bf2"
      },
      "outputs": [
        {
          "output_type": "execute_result",
          "data": {
            "text/plain": [
              "(array([2959., 1195.,  456.,  215.,   80.,   49.,   22.,   11.,    3.,\n",
              "           3.]),\n",
              " array([  59. ,  181.6,  304.2,  426.8,  549.4,  672. ,  794.6,  917.2,\n",
              "        1039.8, 1162.4, 1285. ]),\n",
              " <a list of 10 Patch objects>)"
            ]
          },
          "metadata": {},
          "execution_count": 6
        },
        {
          "output_type": "display_data",
          "data": {
            "text/plain": [
              "<Figure size 432x288 with 1 Axes>"
            ],
            "image/png": "[encoded data removed]"
          },
          "metadata": {
            "needs_background": "light"
          }
        }
      ],
      "source": [
        "# find out the distribution of context lengths\n",
        "from collections import Counter\n",
        "import matplotlib.pyplot as plt\n",
        "def bag_of_words(text):\n",
        "    # TODO: Implement bag of words\n",
        "    return len(text.split(' '))\n",
        "plt.hist(test_df['context'].apply(bag_of_words))"
      ]
    },
    {
      "cell_type": "code",
      "execution_count": 7,
      "metadata": {
        "id": "m3IkUERcuN2Y"
      },
      "outputs": [],
      "source": [
        "#define preprocessing code for further use\n",
        "\n",
        "def clean_text(text):\n",
        "    if text == None:\n",
        "        return None\n",
        "    text = text.lower()\n",
        "    text = re.sub(r\"what's\", \"what is \", text)\n",
        "    text = re.sub(r\"\\'s\", \" \", text)\n",
        "    text = re.sub(r\"\\'ve\", \" have \", text)\n",
        "    text = re.sub(r\"can't\", \"can not \", text)\n",
        "    text = re.sub(r\"n't\", \" not \", text)\n",
        "    text = re.sub(r\"i'm\", \"i am \", text)\n",
        "    text = re.sub(r\"\\'re\", \" are \", text)\n",
        "    text = re.sub(r\"\\'d\", \" would \", text)\n",
        "    text = re.sub(r\"\\'ll\", \" will \", text)\n",
        "    text = re.sub(r\"\\'scuse\", \" excuse \", text)\n",
        "    text = re.sub('\\W', ' ', text)\n",
        "    text = re.sub('\\s+', ' ', text)\n",
        "    text = re.sub('\\d+', ' ', text)\n",
        "    text = re.sub('_+', ' ', text)\n",
        "    text = re.sub(' +', ' ', text)\n",
        "    text = text.strip(' ')\n",
        "    \n",
        "    return text\n",
        "\n",
        "def tokenizer(text):\n",
        "    sentences = nltk.sent_tokenize(text)\n",
        "\n",
        "    sentences = [nltk.word_tokenize(sentence) for sentence in sentences]\n",
        "\n",
        "    for i in range(len(sentences)):\n",
        "        sentences[i] = [word for word in sentences[i] if word not in stopwords.words('english')]\n",
        "    \n",
        "    return sentences[0]"
      ]
    },
    {
      "cell_type": "code",
      "execution_count": 8,
      "metadata": {
        "id": "5tuwJV4QuO5d"
      },
      "outputs": [],
      "source": [
        "df['context'] = df['context'].map(lambda con: tokenizer(clean_text(con)))\n",
        "test_df['context'] = test_df['context'].map(lambda con: tokenizer(clean_text(con)))"
      ]
    },
    {
      "cell_type": "code",
      "execution_count": 9,
      "metadata": {
        "id": "y9QCNJ2FuhmK"
      },
      "outputs": [],
      "source": [
        "my_word2vec = word2vec.Word2Vec.load('regulationword2vec_mincount1-300.model')"
      ]
    },
    {
      "cell_type": "code",
      "execution_count": 10,
      "metadata": {
        "id": "2X0l6fS2-CdQ"
      },
      "outputs": [],
      "source": [
        "weights = torch.FloatTensor(my_word2vec.wv.vectors)"
      ]
    },
    {
      "cell_type": "code",
      "execution_count": 11,
      "metadata": {
        "id": "PDXCKsAwy9V_"
      },
      "outputs": [],
      "source": [
        "df['pretrained'] = df['context'].map(lambda li: pd.Series(li).map(lambda word: my_word2vec.wv.index2word.index(word)))\n",
        "test_df['pretrained'] = test_df['context'].map(lambda li: pd.Series(li).map(lambda word: my_word2vec.wv.index2word.index(word)))"
      ]
    },
    {
      "cell_type": "code",
      "execution_count": 12,
      "metadata": {
        "id": "WHtVBa5v8gj2"
      },
      "outputs": [],
      "source": [
        "train_df, eval_df = train_test_split(df, train_size = 0.8,test_size = 0.2, random_state=42)"
      ]
    },
    {
      "cell_type": "code",
      "execution_count": 13,
      "metadata": {
        "colab": {
          "base_uri": "https://localhost:8080/"
        },
        "id": "_wEvUc7p9q_P",
        "outputId": "2a27a202-8fa6-4b2e-9c6f-bcd634631240"
      },
      "outputs": [
        {
          "output_type": "stream",
          "name": "stdout",
          "text": [
            "(7887, 384)\n",
            "(1972, 384)\n",
            "(4993, 384)\n"
          ]
        }
      ],
      "source": [
        "DOC_LEN = 384\n",
        "train_x = keras.utils.pad_sequences(train_df['pretrained'],\n",
        "                                    value=0,\n",
        "                                    padding='post',\n",
        "                                    maxlen=DOC_LEN)\n",
        "\n",
        "eval_x = keras.utils.pad_sequences(eval_df['pretrained'],\n",
        "                                    value=0,\n",
        "                                    padding='post',\n",
        "                                    maxlen=DOC_LEN)\n",
        "\n",
        "test_x = keras.utils.pad_sequences(test_df['pretrained'],\n",
        "                                    value=0,\n",
        "                                    padding='post',\n",
        "                                    maxlen=DOC_LEN)\n",
        "\n",
        "print(train_x.shape)\n",
        "print(eval_x.shape)\n",
        "print(test_x.shape)"
      ]
    },
    {
      "cell_type": "code",
      "execution_count": 14,
      "metadata": {
        "id": "BOy3qk8l80Wu"
      },
      "outputs": [],
      "source": [
        "class RegulationDataset(Dataset):\n",
        "    def __init__(self, features, dataframe):\n",
        "        self.dataframe = dataframe\n",
        "        self.features = torch.IntTensor(features)\n",
        "\n",
        "    def __len__(self):\n",
        "        return len(self.dataframe)\n",
        "      \n",
        "    def __getitem__(self, index):        \n",
        "        data_row = self.dataframe.iloc[index]\n",
        "\n",
        "        labels = data_row[label_cols]\n",
        "\n",
        "        return self.features[index], torch.FloatTensor(labels)\n",
        "\n",
        "class RegulationTestDataset(Dataset):\n",
        "    def __init__(self, features):\n",
        "        self.features = torch.IntTensor(features)\n",
        "\n",
        "    def __len__(self):\n",
        "        return len(self.features)\n",
        "      \n",
        "    def __getitem__(self, index):        \n",
        "        return self.features[index]\n",
        "\n",
        "# datasets\n",
        "train_dataset = RegulationDataset(train_x, train_df)\n",
        "\n",
        "eval_dataset = RegulationDataset(eval_x, eval_df)\n",
        "\n",
        "test_dataset = RegulationTestDataset(test_x)"
      ]
    },
    {
      "cell_type": "code",
      "source": [
        "class Baseline(nn.Module):\n",
        "    def __init__(self, weights, embedding_dim, hidden_layer1, hidden_layer2):\n",
        "        super(Baseline, self).__init__()\n",
        "        self.weights = weights\n",
        "        self.embedding_dim = embedding_dim\n",
        "        self.embedding = nn.Embedding.from_pretrained(self.weights)\n",
        "\n",
        "  \n",
        "        self.classifier = nn.Sequential( \n",
        "            nn.Flatten(), # define a subcomponent of neural network or another to define model\n",
        "            nn.Linear(in_features=embedding_dim*384, out_features=hidden_layer1),\n",
        "            nn.ReLU(),\n",
        "            nn.Dropout(0.3),\n",
        "            nn.Linear(in_features=hidden_layer1, out_features=hidden_layer2),\n",
        "            nn.ReLU(),\n",
        "            nn.Dropout(0.3),\n",
        "            nn.Linear(in_features=hidden_layer2, out_features=50),\n",
        "      \n",
        "          )\n",
        "        \n",
        "    def forward(self, x):\n",
        "        x = self.embedding(x)\n",
        "\n",
        "        return self.classifier(x)"
      ],
      "metadata": {
        "id": "JQu_bVBswJdL"
      },
      "execution_count": 15,
      "outputs": []
    },
    {
      "cell_type": "code",
      "source": [
        "Baseline_model = Baseline(weights, 300, 50, 10)"
      ],
      "metadata": {
        "id": "LF065GzDzixE"
      },
      "execution_count": 16,
      "outputs": []
    },
    {
      "cell_type": "code",
      "source": [
        "summary(Baseline_model)"
      ],
      "metadata": {
        "colab": {
          "base_uri": "https://localhost:8080/"
        },
        "id": "L3vd4RRsFYGJ",
        "outputId": "2a693ad0-a02f-4f0f-dfc2-75e5e223e5b7"
      },
      "execution_count": 27,
      "outputs": [
        {
          "output_type": "execute_result",
          "data": {
            "text/plain": [
              "=================================================================\n",
              "Layer (type:depth-idx)                   Param #\n",
              "=================================================================\n",
              "Baseline                                 --\n",
              "├─Embedding: 1-1                         (10,341,900)\n",
              "├─Sequential: 1-2                        --\n",
              "│    └─Flatten: 2-1                      --\n",
              "│    └─Linear: 2-2                       5,760,050\n",
              "│    └─ReLU: 2-3                         --\n",
              "│    └─Dropout: 2-4                      --\n",
              "│    └─Linear: 2-5                       510\n",
              "│    └─ReLU: 2-6                         --\n",
              "│    └─Dropout: 2-7                      --\n",
              "│    └─Linear: 2-8                       550\n",
              "=================================================================\n",
              "Total params: 16,103,010\n",
              "Trainable params: 5,761,110\n",
              "Non-trainable params: 10,341,900\n",
              "================================================================="
            ]
          },
          "metadata": {},
          "execution_count": 27
        }
      ]
    },
    {
      "cell_type": "code",
      "execution_count": 17,
      "metadata": {
        "id": "xE6Saoc39-md"
      },
      "outputs": [],
      "source": [
        "class TextCNN(nn.Module):\n",
        "    def __init__(self, weights, embedding_dim, out_channels, dropout_ratio):\n",
        "        super(TextCNN, self).__init__()\n",
        "        self.weights = weights\n",
        "        self.embedding_dim = embedding_dim\n",
        "        self.dropout_ratio = dropout_ratio\n",
        "        \n",
        "        # embedding\n",
        "        self.embedding = nn.Embedding.from_pretrained(self.weights)  # (-1, DOC_LEN, embedding_dim), num_embedding: embedding dict size, embedding_dim: length of embedding vector\n",
        "        \n",
        "        # 1D CNN\n",
        "        # unigram\n",
        "        self.unigram = nn.Sequential(# input (-1, embedding_dim, DOC_LEN)\n",
        "        nn.Conv1d(in_channels=embedding_dim, out_channels=out_channels, kernel_size=2),  # (-1, 64, DOC_LEN)\n",
        "        nn.ReLU(),\n",
        "        nn.MaxPool1d(kernel_size=DOC_LEN - 2 + 1),  # (-1, 64, 1)\n",
        "        nn.Flatten()  # (-1, 64 * 1)\n",
        "        )\n",
        "        # bigram\n",
        "        self.bigram = nn.Sequential(# input (-1, embedding_dim, DOC_LEN)\n",
        "        nn.Conv1d(in_channels=embedding_dim, out_channels=out_channels, kernel_size=3),  # (-1, 64, DOC_LEN-2+1) ??? why DOC_LEN - 2 + 1\n",
        "        nn.ReLU(),\n",
        "        nn.MaxPool1d(kernel_size=DOC_LEN - 3 + 1),  # (-1, 64, 1)\n",
        "        nn.Flatten()  # (-1, 64 * 1)\n",
        "        )\n",
        "        # trigram\n",
        "        self.trigram = nn.Sequential(# input (-1, embedding_dim, DOC_LEN)\n",
        "        nn.Conv1d(in_channels=embedding_dim, out_channels=out_channels, kernel_size=4),  # (-1, 64, DOC_LEN-3+1)\n",
        "        nn.ReLU(),\n",
        "        nn.MaxPool1d(kernel_size=DOC_LEN - 4 + 1),  # (-1, 16, 7)\n",
        "        nn.Flatten()  # (-1, 64 * 1)\n",
        "        )\n",
        "        # simple classifier\n",
        "        self.classifier = nn.Sequential(\n",
        "            nn.Dropout(dropout_ratio),\n",
        "            nn.Linear(in_features=out_channels*3, out_features=50)\n",
        "        )\n",
        "    def forward(self, x):\n",
        "        # get embedding\n",
        "        x = self.embedding(x)\n",
        "        # make sure we are convolving on each word\n",
        "        x = torch.transpose(x, dim0=1, dim1=2)  # (-1, DOC_LEN, embedding_dim): embedding on 1(DOC_LEN) & 2(embedding_dim) dims\n",
        "        # 1d cnn output\n",
        "        uni_gram_output = self.unigram(x)\n",
        "        bi_gram_output = self.bigram(x)\n",
        "        tri_gram_output = self.trigram(x)\n",
        "\n",
        "        # concatenate\n",
        "        x = torch.cat((uni_gram_output, bi_gram_output, tri_gram_output), dim=1)\n",
        "        # classifier\n",
        "        x = self.classifier(x)\n",
        "\n",
        "        return x"
      ]
    },
    {
      "cell_type": "code",
      "source": [
        "CNN_model = TextCNN(weights, 300, 1024, 0.3)"
      ],
      "metadata": {
        "id": "-K347wCO0m1B"
      },
      "execution_count": 18,
      "outputs": []
    },
    {
      "cell_type": "code",
      "source": [
        "summary(CNN_model)"
      ],
      "metadata": {
        "colab": {
          "base_uri": "https://localhost:8080/"
        },
        "id": "eX_LJ9ELI7J0",
        "outputId": "9ae3fb14-23a9-4248-b92d-b479d048f0d7"
      },
      "execution_count": 28,
      "outputs": [
        {
          "output_type": "execute_result",
          "data": {
            "text/plain": [
              "=================================================================\n",
              "Layer (type:depth-idx)                   Param #\n",
              "=================================================================\n",
              "TextCNN                                  --\n",
              "├─Embedding: 1-1                         (10,341,900)\n",
              "├─Sequential: 1-2                        --\n",
              "│    └─Conv1d: 2-1                       615,424\n",
              "│    └─ReLU: 2-2                         --\n",
              "│    └─MaxPool1d: 2-3                    --\n",
              "│    └─Flatten: 2-4                      --\n",
              "├─Sequential: 1-3                        --\n",
              "│    └─Conv1d: 2-5                       922,624\n",
              "│    └─ReLU: 2-6                         --\n",
              "│    └─MaxPool1d: 2-7                    --\n",
              "│    └─Flatten: 2-8                      --\n",
              "├─Sequential: 1-4                        --\n",
              "│    └─Conv1d: 2-9                       1,229,824\n",
              "│    └─ReLU: 2-10                        --\n",
              "│    └─MaxPool1d: 2-11                   --\n",
              "│    └─Flatten: 2-12                     --\n",
              "├─Sequential: 1-5                        --\n",
              "│    └─Dropout: 2-13                     --\n",
              "│    └─Linear: 2-14                      153,650\n",
              "=================================================================\n",
              "Total params: 13,263,422\n",
              "Trainable params: 2,921,522\n",
              "Non-trainable params: 10,341,900\n",
              "================================================================="
            ]
          },
          "metadata": {},
          "execution_count": 28
        }
      ]
    },
    {
      "cell_type": "code",
      "execution_count": 19,
      "metadata": {
        "id": "qoZU-y6EAsvI"
      },
      "outputs": [],
      "source": [
        "class CNN_LSTM(nn.Module):\n",
        "\n",
        "    def __init__(self, weights, embedding_dim, out_channels, DOC_LEN, lstm_hidden_dim, dropout_ratio, n_layers, output_size):\n",
        "        super(CNN_LSTM, self).__init__()\n",
        "        self.weights = weights\n",
        "        self.embedding_dim = embedding_dim\n",
        "        self.out_channels = out_channels\n",
        "        #self.out_features = out_features\n",
        "        self.DOC_LEN = DOC_LEN\n",
        "        self.lstm_hidden_dim = lstm_hidden_dim\n",
        "        self.dropout_ratio = dropout_ratio\n",
        "        self.n_layers = n_layers\n",
        "        self.output_size = output_size\n",
        "        \n",
        "        # embedding\n",
        "        self.embedding = nn.Embedding.from_pretrained(self.weights)  # (-1, DOC_LEN, embedding_dim), num_embedding: embedding dict size, embedding_dim: length of embedding vector\n",
        "        \n",
        "        # 1D CNN\n",
        "        # unigram\n",
        "        self.unigram = nn.Sequential(# input (-1, embedding_dim, DOC_LEN)\n",
        "        nn.Conv1d(in_channels=self.embedding_dim, out_channels=self.out_channels, kernel_size=2),  \n",
        "        nn.ReLU(),\n",
        "        nn.MaxPool1d(kernel_size=DOC_LEN - 2 + 1), \n",
        "        #nn.Flatten()  \n",
        "        )\n",
        "        # bigram\n",
        "        self.bigram = nn.Sequential(# input (-1, embedding_dim, DOC_LEN)\n",
        "        nn.Conv1d(in_channels=self.embedding_dim, out_channels=self.out_channels, kernel_size=3),  \n",
        "        nn.ReLU(),\n",
        "        nn.MaxPool1d(kernel_size=DOC_LEN - 3 + 1), \n",
        "        #nn.Flatten()  \n",
        "        )\n",
        "        # trigram\n",
        "        self.trigram = nn.Sequential(# input (-1, embedding_dim, DOC_LEN)\n",
        "        nn.Conv1d(in_channels=self.embedding_dim, out_channels=self.out_channels, kernel_size=4),  \n",
        "        nn.ReLU(),\n",
        "        nn.MaxPool1d(kernel_size=DOC_LEN - 4 + 1), \n",
        "        #nn.Flatten()\n",
        "        )\n",
        "\n",
        "        # LSTM layer \n",
        "        \n",
        "        self.lstm = nn.LSTM(input_size=self.out_channels*3, hidden_size=self.lstm_hidden_dim,\n",
        "                           num_layers=self.n_layers, batch_first=True, bidirectional=True)\n",
        "\n",
        "\n",
        "        # linear and sigmoid layer. If bidictional is True, double the input dimension\n",
        "        self.classifier = nn.Sequential(\n",
        "            nn.Dropout(self.dropout_ratio),\n",
        "            nn.ReLU(),\n",
        "            nn.Linear(in_features=self.lstm_hidden_dim*2, out_features=self.output_size)\n",
        "                      )\n",
        "        \n",
        "    def forward(self, x):\n",
        "        # get embedding\n",
        "        x = self.embedding(x)\n",
        "        # make sure we are convolving on each word\n",
        "        x = x.permute(0, 2, 1)\n",
        "        #x = torch.transpose(x, dim0=1, dim1=2)  # (-1, DOC_LEN, embedding_dim): embedding on 1(DOC_LEN) & 2(embedding_dim) dims\n",
        "        # 1d cnn output\n",
        "        uni_gram_output = self.unigram(x)\n",
        "        bi_gram_output = self.bigram(x)\n",
        "        tri_gram_output = self.trigram(x)\n",
        "        #x = self.unigram(x)\n",
        "        # concatenate\n",
        "        x = torch.cat((uni_gram_output, bi_gram_output, tri_gram_output), dim=1)\n",
        "\n",
        "        # Passing in the input and hidden state into the model and obtaining outputs\n",
        "        x = x.permute(0, 2, 1)\n",
        "        lstm_out, hidden = self.lstm(x)\n",
        "        # classifier\n",
        "        out = self.classifier(lstm_out[:,:].squeeze())\n",
        "       \n",
        "        return out"
      ]
    },
    {
      "cell_type": "code",
      "source": [
        "CNN_LSTM_model = CNN_LSTM(weights = weights, embedding_dim=300, out_channels=64, DOC_LEN=DOC_LEN, lstm_hidden_dim=128, dropout_ratio=0.5, n_layers=1, output_size=50)"
      ],
      "metadata": {
        "id": "tk4yCYZRHBbn"
      },
      "execution_count": 20,
      "outputs": []
    },
    {
      "cell_type": "code",
      "execution_count": null,
      "metadata": {
        "colab": {
          "base_uri": "https://localhost:8080/"
        },
        "id": "TugUIpH8-gbg",
        "outputId": "6e4c5a16-6b76-45bf-e0d0-db6b0ccae0c5"
      },
      "outputs": [
        {
          "output_type": "execute_result",
          "data": {
            "text/plain": [
              "=================================================================\n",
              "Layer (type:depth-idx)                   Param #\n",
              "=================================================================\n",
              "CNN_LSTM                                 --\n",
              "├─Embedding: 1-1                         (10,341,900)\n",
              "├─Sequential: 1-2                        --\n",
              "│    └─Conv1d: 2-1                       38,464\n",
              "│    └─ReLU: 2-2                         --\n",
              "│    └─MaxPool1d: 2-3                    --\n",
              "├─Sequential: 1-3                        --\n",
              "│    └─Conv1d: 2-4                       57,664\n",
              "│    └─ReLU: 2-5                         --\n",
              "│    └─MaxPool1d: 2-6                    --\n",
              "├─Sequential: 1-4                        --\n",
              "│    └─Conv1d: 2-7                       76,864\n",
              "│    └─ReLU: 2-8                         --\n",
              "│    └─MaxPool1d: 2-9                    --\n",
              "├─LSTM: 1-5                              329,728\n",
              "├─Sequential: 1-6                        --\n",
              "│    └─Dropout: 2-10                     --\n",
              "│    └─ReLU: 2-11                        --\n",
              "│    └─Linear: 2-12                      12,850\n",
              "=================================================================\n",
              "Total params: 10,857,470\n",
              "Trainable params: 515,570\n",
              "Non-trainable params: 10,341,900\n",
              "================================================================="
            ]
          },
          "metadata": {},
          "execution_count": 34
        }
      ],
      "source": [
        "summary(CNN_LSTM_model)"
      ]
    },
    {
      "cell_type": "code",
      "execution_count": 21,
      "metadata": {
        "id": "OJ147kAs-kUW"
      },
      "outputs": [],
      "source": [
        "def train_model(model, train_dataset, test_dataset, device, lr=0.0001, epochs=20, batch_size=32):\n",
        "    # construct dataloader\n",
        "    train_loader = DataLoader(train_dataset, batch_size=batch_size, shuffle=True)\n",
        "    test_loader = DataLoader(test_dataset, batch_size=batch_size, shuffle=True)\n",
        "\n",
        "    # move model to device\n",
        "    model = model.to(device)\n",
        "\n",
        "    # history\n",
        "    history = {'train_loss': [],\n",
        "               'train_acc': [],\n",
        "               'test_loss': [],\n",
        "               'test_acc': []}\n",
        "\n",
        "    # setup loss function and optimizer\n",
        "    criterion = nn.BCEWithLogitsLoss()\n",
        "    optimizer = torch.optim.Adam(model.parameters(), lr=lr, weight_decay=0.0005)\n",
        "\n",
        "    # training loop\n",
        "    print('Training Start')\n",
        "    for epoch in range(epochs):\n",
        "        model.train()\n",
        "        train_loss = 0\n",
        "        train_acc = 0\n",
        "        test_loss = 0\n",
        "        test_acc = 0\n",
        "        for x, y in train_loader:\n",
        "            # move data to device\n",
        "            x = x.to(device)\n",
        "            y = y.to(device)\n",
        "            # forward\n",
        "            outputs = model(x)\n",
        "            pred = torch.round(torch.sigmoid(outputs))\n",
        "            cur_train_loss = criterion(outputs, y)\n",
        "            cur_train_acc = (pred == y).float().mean().item() \n",
        "            # backward\n",
        "            cur_train_loss.backward()\n",
        "            optimizer.step()\n",
        "            optimizer.zero_grad()\n",
        "            # loss and acc\n",
        "            train_loss += cur_train_loss\n",
        "            train_acc += cur_train_acc\n",
        "\n",
        "        # test start\n",
        "        model.eval()\n",
        "        with torch.no_grad():\n",
        "            for x, y in test_loader:\n",
        "                # move\n",
        "                x = x.to(device)\n",
        "                y = y.to(device)\n",
        "                # predict\n",
        "                outputs = model(x)\n",
        "                pred = torch.round(torch.sigmoid(outputs))\n",
        "                cur_test_loss = criterion(outputs, y)\n",
        "                cur_test_acc = (pred == y).float().mean().item() \n",
        "                # loss and acc\n",
        "                test_loss += cur_test_loss\n",
        "                test_acc += cur_test_acc\n",
        "\n",
        "        # epoch output\n",
        "        train_loss = (train_loss/len(train_loader)).item()\n",
        "        train_acc = train_acc/len(train_loader)\n",
        "        val_loss = (test_loss/len(test_loader)).item()\n",
        "        val_acc = test_acc/len(test_loader)\n",
        "        history['train_loss'].append(train_loss)\n",
        "        history['train_acc'].append(train_acc)\n",
        "        history['test_loss'].append(val_loss)\n",
        "        history['test_acc'].append(val_acc)\n",
        "        print(f\"Epoch:{epoch + 1} / {epochs}, train loss:{train_loss:.4f} train_acc:{train_acc:.4f}, valid loss:{val_loss:.4f} valid acc:{val_acc:.5f}\")\n",
        "    \n",
        "    return history"
      ]
    },
    {
      "cell_type": "code",
      "execution_count": 22,
      "metadata": {
        "id": "2nI2Yj4I-orO"
      },
      "outputs": [],
      "source": [
        "device = torch.device(\"cuda\" if torch.cuda.is_available() else \"cpu\")"
      ]
    },
    {
      "cell_type": "code",
      "source": [
        "device"
      ],
      "metadata": {
        "colab": {
          "base_uri": "https://localhost:8080/"
        },
        "id": "sz6C9AQTHszp",
        "outputId": "0274c122-8101-4ff8-cbdd-7b85b3fff265"
      },
      "execution_count": 23,
      "outputs": [
        {
          "output_type": "execute_result",
          "data": {
            "text/plain": [
              "device(type='cuda')"
            ]
          },
          "metadata": {},
          "execution_count": 23
        }
      ]
    },
    {
      "cell_type": "code",
      "source": [
        "Baseline_history = train_model(model=Baseline_model,\n",
        "                      train_dataset=train_dataset,\n",
        "                      test_dataset=eval_dataset,\n",
        "                      device=device,\n",
        "                      lr=0.0005,\n",
        "                      epochs=50,\n",
        "                      batch_size=8)"
      ],
      "metadata": {
        "colab": {
          "base_uri": "https://localhost:8080/"
        },
        "id": "3FCgXjQ5YTq4",
        "outputId": "352d594e-4a0e-4db0-9db3-fa9cdecf908c"
      },
      "execution_count": 24,
      "outputs": [
        {
          "output_type": "stream",
          "name": "stdout",
          "text": [
            "Training Start\n",
            "Epoch:1 / 50, train loss:0.4162 train_acc:0.8484, valid loss:0.3043 valid acc:0.90456\n",
            "Epoch:2 / 50, train loss:0.3293 train_acc:0.9042, valid loss:0.3054 valid acc:0.90466\n",
            "Epoch:3 / 50, train loss:0.3215 train_acc:0.9044, valid loss:0.3012 valid acc:0.90456\n",
            "Epoch:4 / 50, train loss:0.3171 train_acc:0.9044, valid loss:0.2983 valid acc:0.90470\n",
            "Epoch:5 / 50, train loss:0.3122 train_acc:0.9044, valid loss:0.2934 valid acc:0.90467\n",
            "Epoch:6 / 50, train loss:0.3077 train_acc:0.9044, valid loss:0.2871 valid acc:0.90457\n",
            "Epoch:7 / 50, train loss:0.3061 train_acc:0.9046, valid loss:0.2871 valid acc:0.90465\n",
            "Epoch:8 / 50, train loss:0.3031 train_acc:0.9048, valid loss:0.2896 valid acc:0.90463\n",
            "Epoch:9 / 50, train loss:0.2987 train_acc:0.9053, valid loss:0.2867 valid acc:0.90492\n",
            "Epoch:10 / 50, train loss:0.2965 train_acc:0.9055, valid loss:0.2794 valid acc:0.90608\n",
            "Epoch:11 / 50, train loss:0.2972 train_acc:0.9055, valid loss:0.2811 valid acc:0.90748\n",
            "Epoch:12 / 50, train loss:0.2967 train_acc:0.9057, valid loss:0.2855 valid acc:0.90600\n",
            "Epoch:13 / 50, train loss:0.2978 train_acc:0.9056, valid loss:0.2810 valid acc:0.90533\n",
            "Epoch:14 / 50, train loss:0.2997 train_acc:0.9056, valid loss:0.2944 valid acc:0.90590\n",
            "Epoch:15 / 50, train loss:0.2981 train_acc:0.9057, valid loss:0.2879 valid acc:0.90470\n",
            "Epoch:16 / 50, train loss:0.2997 train_acc:0.9054, valid loss:0.2934 valid acc:0.90593\n",
            "Epoch:17 / 50, train loss:0.2977 train_acc:0.9058, valid loss:0.2793 valid acc:0.90610\n",
            "Epoch:18 / 50, train loss:0.2960 train_acc:0.9059, valid loss:0.2889 valid acc:0.90502\n",
            "Epoch:19 / 50, train loss:0.2955 train_acc:0.9059, valid loss:0.2830 valid acc:0.90696\n",
            "Epoch:20 / 50, train loss:0.2968 train_acc:0.9058, valid loss:0.2827 valid acc:0.90549\n",
            "Epoch:21 / 50, train loss:0.2975 train_acc:0.9057, valid loss:0.2854 valid acc:0.90477\n",
            "Epoch:22 / 50, train loss:0.2982 train_acc:0.9059, valid loss:0.2878 valid acc:0.90480\n",
            "Epoch:23 / 50, train loss:0.2977 train_acc:0.9056, valid loss:0.2819 valid acc:0.90609\n",
            "Epoch:24 / 50, train loss:0.2987 train_acc:0.9057, valid loss:0.2819 valid acc:0.90585\n",
            "Epoch:25 / 50, train loss:0.2961 train_acc:0.9059, valid loss:0.2818 valid acc:0.90608\n",
            "Epoch:26 / 50, train loss:0.2951 train_acc:0.9061, valid loss:0.2837 valid acc:0.90582\n",
            "Epoch:27 / 50, train loss:0.3001 train_acc:0.9053, valid loss:0.2786 valid acc:0.90691\n",
            "Epoch:28 / 50, train loss:0.2966 train_acc:0.9059, valid loss:0.2889 valid acc:0.90740\n",
            "Epoch:29 / 50, train loss:0.2975 train_acc:0.9057, valid loss:0.2882 valid acc:0.90528\n",
            "Epoch:30 / 50, train loss:0.2979 train_acc:0.9057, valid loss:0.2858 valid acc:0.90688\n",
            "Epoch:31 / 50, train loss:0.2988 train_acc:0.9057, valid loss:0.2851 valid acc:0.90517\n",
            "Epoch:32 / 50, train loss:0.2963 train_acc:0.9059, valid loss:0.2884 valid acc:0.90465\n",
            "Epoch:33 / 50, train loss:0.2953 train_acc:0.9059, valid loss:0.2783 valid acc:0.90624\n",
            "Epoch:34 / 50, train loss:0.2958 train_acc:0.9060, valid loss:0.2774 valid acc:0.90628\n",
            "Epoch:35 / 50, train loss:0.2965 train_acc:0.9058, valid loss:0.2905 valid acc:0.90489\n",
            "Epoch:36 / 50, train loss:0.2974 train_acc:0.9058, valid loss:0.2805 valid acc:0.90675\n",
            "Epoch:37 / 50, train loss:0.2962 train_acc:0.9059, valid loss:0.2785 valid acc:0.90647\n",
            "Epoch:38 / 50, train loss:0.2967 train_acc:0.9059, valid loss:0.2795 valid acc:0.90668\n",
            "Epoch:39 / 50, train loss:0.2971 train_acc:0.9057, valid loss:0.2945 valid acc:0.90490\n",
            "Epoch:40 / 50, train loss:0.2956 train_acc:0.9061, valid loss:0.2799 valid acc:0.90612\n",
            "Epoch:41 / 50, train loss:0.2960 train_acc:0.9059, valid loss:0.2843 valid acc:0.90618\n",
            "Epoch:42 / 50, train loss:0.2977 train_acc:0.9056, valid loss:0.2815 valid acc:0.90574\n",
            "Epoch:43 / 50, train loss:0.2969 train_acc:0.9059, valid loss:0.2894 valid acc:0.90555\n",
            "Epoch:44 / 50, train loss:0.2988 train_acc:0.9057, valid loss:0.2799 valid acc:0.90628\n",
            "Epoch:45 / 50, train loss:0.2991 train_acc:0.9053, valid loss:0.2857 valid acc:0.90547\n",
            "Epoch:46 / 50, train loss:0.2966 train_acc:0.9059, valid loss:0.2771 valid acc:0.90714\n",
            "Epoch:47 / 50, train loss:0.2976 train_acc:0.9057, valid loss:0.2819 valid acc:0.90624\n",
            "Epoch:48 / 50, train loss:0.2960 train_acc:0.9058, valid loss:0.2762 valid acc:0.90734\n",
            "Epoch:49 / 50, train loss:0.2958 train_acc:0.9059, valid loss:0.2833 valid acc:0.90693\n",
            "Epoch:50 / 50, train loss:0.2955 train_acc:0.9060, valid loss:0.2780 valid acc:0.90546\n"
          ]
        }
      ]
    },
    {
      "cell_type": "code",
      "source": [
        "CNN_history = train_model(model=CNN_model,\n",
        "                      train_dataset=train_dataset,\n",
        "                      test_dataset=eval_dataset,\n",
        "                      device=device,\n",
        "                      lr=0.0005,\n",
        "                      epochs=50,\n",
        "                      batch_size=8)"
      ],
      "metadata": {
        "colab": {
          "base_uri": "https://localhost:8080/"
        },
        "id": "x4ol03GKHuBA",
        "outputId": "24eb8421-8d16-46b1-867a-9f56aec6a77d"
      },
      "execution_count": 25,
      "outputs": [
        {
          "output_type": "stream",
          "name": "stdout",
          "text": [
            "Training Start\n",
            "Epoch:1 / 50, train loss:0.2105 train_acc:0.9285, valid loss:0.1585 valid acc:0.94211\n",
            "Epoch:2 / 50, train loss:0.1375 train_acc:0.9508, valid loss:0.1294 valid acc:0.95161\n",
            "Epoch:3 / 50, train loss:0.1221 train_acc:0.9560, valid loss:0.1236 valid acc:0.95420\n",
            "Epoch:4 / 50, train loss:0.1162 train_acc:0.9580, valid loss:0.1198 valid acc:0.95714\n",
            "Epoch:5 / 50, train loss:0.1131 train_acc:0.9590, valid loss:0.1177 valid acc:0.95849\n",
            "Epoch:6 / 50, train loss:0.1110 train_acc:0.9599, valid loss:0.1158 valid acc:0.95751\n",
            "Epoch:7 / 50, train loss:0.1095 train_acc:0.9606, valid loss:0.1172 valid acc:0.95910\n",
            "Epoch:8 / 50, train loss:0.1083 train_acc:0.9610, valid loss:0.1138 valid acc:0.95859\n",
            "Epoch:9 / 50, train loss:0.1073 train_acc:0.9614, valid loss:0.1125 valid acc:0.96046\n",
            "Epoch:10 / 50, train loss:0.1070 train_acc:0.9614, valid loss:0.1136 valid acc:0.95858\n",
            "Epoch:11 / 50, train loss:0.1063 train_acc:0.9616, valid loss:0.1116 valid acc:0.96001\n",
            "Epoch:12 / 50, train loss:0.1064 train_acc:0.9616, valid loss:0.1130 valid acc:0.95904\n",
            "Epoch:13 / 50, train loss:0.1057 train_acc:0.9618, valid loss:0.1107 valid acc:0.96065\n",
            "Epoch:14 / 50, train loss:0.1053 train_acc:0.9620, valid loss:0.1081 valid acc:0.96160\n",
            "Epoch:15 / 50, train loss:0.1046 train_acc:0.9623, valid loss:0.1108 valid acc:0.96113\n",
            "Epoch:16 / 50, train loss:0.1052 train_acc:0.9623, valid loss:0.1117 valid acc:0.95871\n",
            "Epoch:17 / 50, train loss:0.1053 train_acc:0.9620, valid loss:0.1100 valid acc:0.96114\n",
            "Epoch:18 / 50, train loss:0.1048 train_acc:0.9619, valid loss:0.1085 valid acc:0.96079\n",
            "Epoch:19 / 50, train loss:0.1048 train_acc:0.9624, valid loss:0.1105 valid acc:0.95901\n",
            "Epoch:20 / 50, train loss:0.1042 train_acc:0.9625, valid loss:0.1097 valid acc:0.96039\n",
            "Epoch:21 / 50, train loss:0.1043 train_acc:0.9627, valid loss:0.1102 valid acc:0.95854\n",
            "Epoch:22 / 50, train loss:0.1037 train_acc:0.9624, valid loss:0.1086 valid acc:0.96091\n",
            "Epoch:23 / 50, train loss:0.1043 train_acc:0.9623, valid loss:0.1091 valid acc:0.96181\n",
            "Epoch:24 / 50, train loss:0.1045 train_acc:0.9623, valid loss:0.1096 valid acc:0.95946\n",
            "Epoch:25 / 50, train loss:0.1039 train_acc:0.9627, valid loss:0.1099 valid acc:0.95952\n",
            "Epoch:26 / 50, train loss:0.1039 train_acc:0.9622, valid loss:0.1123 valid acc:0.96107\n",
            "Epoch:27 / 50, train loss:0.1039 train_acc:0.9624, valid loss:0.1122 valid acc:0.95800\n",
            "Epoch:28 / 50, train loss:0.1034 train_acc:0.9628, valid loss:0.1076 valid acc:0.96157\n",
            "Epoch:29 / 50, train loss:0.1040 train_acc:0.9625, valid loss:0.1114 valid acc:0.95857\n",
            "Epoch:30 / 50, train loss:0.1037 train_acc:0.9626, valid loss:0.1092 valid acc:0.96036\n",
            "Epoch:31 / 50, train loss:0.1031 train_acc:0.9626, valid loss:0.1090 valid acc:0.95966\n",
            "Epoch:32 / 50, train loss:0.1034 train_acc:0.9626, valid loss:0.1086 valid acc:0.96075\n",
            "Epoch:33 / 50, train loss:0.1037 train_acc:0.9624, valid loss:0.1108 valid acc:0.95925\n",
            "Epoch:34 / 50, train loss:0.1030 train_acc:0.9628, valid loss:0.1096 valid acc:0.96183\n",
            "Epoch:35 / 50, train loss:0.1038 train_acc:0.9626, valid loss:0.1099 valid acc:0.95947\n",
            "Epoch:36 / 50, train loss:0.1036 train_acc:0.9625, valid loss:0.1091 valid acc:0.96008\n",
            "Epoch:37 / 50, train loss:0.1034 train_acc:0.9624, valid loss:0.1090 valid acc:0.96118\n",
            "Epoch:38 / 50, train loss:0.1032 train_acc:0.9629, valid loss:0.1104 valid acc:0.96025\n",
            "Epoch:39 / 50, train loss:0.1032 train_acc:0.9627, valid loss:0.1095 valid acc:0.96062\n",
            "Epoch:40 / 50, train loss:0.1034 train_acc:0.9626, valid loss:0.1103 valid acc:0.95811\n",
            "Epoch:41 / 50, train loss:0.1027 train_acc:0.9626, valid loss:0.1106 valid acc:0.95886\n",
            "Epoch:42 / 50, train loss:0.1031 train_acc:0.9628, valid loss:0.1103 valid acc:0.95860\n",
            "Epoch:43 / 50, train loss:0.1032 train_acc:0.9629, valid loss:0.1075 valid acc:0.96153\n",
            "Epoch:44 / 50, train loss:0.1034 train_acc:0.9630, valid loss:0.1091 valid acc:0.96029\n",
            "Epoch:45 / 50, train loss:0.1027 train_acc:0.9628, valid loss:0.1069 valid acc:0.96236\n",
            "Epoch:46 / 50, train loss:0.1032 train_acc:0.9626, valid loss:0.1102 valid acc:0.95964\n",
            "Epoch:47 / 50, train loss:0.1032 train_acc:0.9627, valid loss:0.1114 valid acc:0.96070\n",
            "Epoch:48 / 50, train loss:0.1031 train_acc:0.9629, valid loss:0.1083 valid acc:0.95928\n",
            "Epoch:49 / 50, train loss:0.1028 train_acc:0.9628, valid loss:0.1083 valid acc:0.96088\n",
            "Epoch:50 / 50, train loss:0.1028 train_acc:0.9628, valid loss:0.1095 valid acc:0.95964\n"
          ]
        }
      ]
    },
    {
      "cell_type": "code",
      "execution_count": 26,
      "metadata": {
        "id": "W9ehk62L-tQY",
        "colab": {
          "base_uri": "https://localhost:8080/"
        },
        "outputId": "ac099ffd-5871-49db-8698-9503c3870af2"
      },
      "outputs": [
        {
          "output_type": "stream",
          "name": "stdout",
          "text": [
            "Training Start\n",
            "Epoch:1 / 50, train loss:0.3192 train_acc:0.9024, valid loss:0.2968 valid acc:0.90465\n",
            "Epoch:2 / 50, train loss:0.2762 train_acc:0.9062, valid loss:0.2569 valid acc:0.90893\n",
            "Epoch:3 / 50, train loss:0.2474 train_acc:0.9110, valid loss:0.2334 valid acc:0.91381\n",
            "Epoch:4 / 50, train loss:0.2275 train_acc:0.9162, valid loss:0.2171 valid acc:0.91826\n",
            "Epoch:5 / 50, train loss:0.2139 train_acc:0.9213, valid loss:0.2063 valid acc:0.92256\n",
            "Epoch:6 / 50, train loss:0.2041 train_acc:0.9252, valid loss:0.1994 valid acc:0.92532\n",
            "Epoch:7 / 50, train loss:0.1976 train_acc:0.9281, valid loss:0.1934 valid acc:0.92837\n",
            "Epoch:8 / 50, train loss:0.1934 train_acc:0.9301, valid loss:0.1905 valid acc:0.93160\n",
            "Epoch:9 / 50, train loss:0.1901 train_acc:0.9314, valid loss:0.1869 valid acc:0.93180\n",
            "Epoch:10 / 50, train loss:0.1872 train_acc:0.9325, valid loss:0.1857 valid acc:0.93223\n",
            "Epoch:11 / 50, train loss:0.1851 train_acc:0.9333, valid loss:0.1835 valid acc:0.93339\n",
            "Epoch:12 / 50, train loss:0.1831 train_acc:0.9340, valid loss:0.1822 valid acc:0.93285\n",
            "Epoch:13 / 50, train loss:0.1812 train_acc:0.9346, valid loss:0.1799 valid acc:0.93283\n",
            "Epoch:14 / 50, train loss:0.1798 train_acc:0.9355, valid loss:0.1781 valid acc:0.93538\n",
            "Epoch:15 / 50, train loss:0.1780 train_acc:0.9358, valid loss:0.1772 valid acc:0.93543\n",
            "Epoch:16 / 50, train loss:0.1767 train_acc:0.9364, valid loss:0.1757 valid acc:0.93655\n",
            "Epoch:17 / 50, train loss:0.1754 train_acc:0.9369, valid loss:0.1740 valid acc:0.93595\n",
            "Epoch:18 / 50, train loss:0.1737 train_acc:0.9373, valid loss:0.1738 valid acc:0.93568\n",
            "Epoch:19 / 50, train loss:0.1726 train_acc:0.9377, valid loss:0.1726 valid acc:0.93622\n",
            "Epoch:20 / 50, train loss:0.1710 train_acc:0.9386, valid loss:0.1712 valid acc:0.93787\n",
            "Epoch:21 / 50, train loss:0.1702 train_acc:0.9390, valid loss:0.1696 valid acc:0.93777\n",
            "Epoch:22 / 50, train loss:0.1687 train_acc:0.9394, valid loss:0.1689 valid acc:0.93892\n",
            "Epoch:23 / 50, train loss:0.1675 train_acc:0.9400, valid loss:0.1680 valid acc:0.93695\n",
            "Epoch:24 / 50, train loss:0.1664 train_acc:0.9405, valid loss:0.1671 valid acc:0.93738\n",
            "Epoch:25 / 50, train loss:0.1655 train_acc:0.9407, valid loss:0.1662 valid acc:0.93964\n",
            "Epoch:26 / 50, train loss:0.1644 train_acc:0.9412, valid loss:0.1647 valid acc:0.94109\n",
            "Epoch:27 / 50, train loss:0.1638 train_acc:0.9417, valid loss:0.1642 valid acc:0.93897\n",
            "Epoch:28 / 50, train loss:0.1627 train_acc:0.9419, valid loss:0.1636 valid acc:0.94050\n",
            "Epoch:29 / 50, train loss:0.1623 train_acc:0.9421, valid loss:0.1636 valid acc:0.94027\n",
            "Epoch:30 / 50, train loss:0.1615 train_acc:0.9423, valid loss:0.1623 valid acc:0.94006\n",
            "Epoch:31 / 50, train loss:0.1607 train_acc:0.9425, valid loss:0.1621 valid acc:0.93948\n",
            "Epoch:32 / 50, train loss:0.1602 train_acc:0.9429, valid loss:0.1623 valid acc:0.94129\n",
            "Epoch:33 / 50, train loss:0.1600 train_acc:0.9430, valid loss:0.1612 valid acc:0.93969\n",
            "Epoch:34 / 50, train loss:0.1590 train_acc:0.9430, valid loss:0.1605 valid acc:0.94211\n",
            "Epoch:35 / 50, train loss:0.1586 train_acc:0.9440, valid loss:0.1601 valid acc:0.94172\n",
            "Epoch:36 / 50, train loss:0.1582 train_acc:0.9438, valid loss:0.1594 valid acc:0.94190\n",
            "Epoch:37 / 50, train loss:0.1578 train_acc:0.9441, valid loss:0.1595 valid acc:0.94287\n",
            "Epoch:38 / 50, train loss:0.1577 train_acc:0.9440, valid loss:0.1592 valid acc:0.94194\n",
            "Epoch:39 / 50, train loss:0.1572 train_acc:0.9439, valid loss:0.1598 valid acc:0.94086\n",
            "Epoch:40 / 50, train loss:0.1569 train_acc:0.9442, valid loss:0.1586 valid acc:0.94087\n",
            "Epoch:41 / 50, train loss:0.1566 train_acc:0.9444, valid loss:0.1586 valid acc:0.94341\n",
            "Epoch:42 / 50, train loss:0.1562 train_acc:0.9445, valid loss:0.1589 valid acc:0.94105\n",
            "Epoch:43 / 50, train loss:0.1555 train_acc:0.9448, valid loss:0.1585 valid acc:0.94109\n",
            "Epoch:44 / 50, train loss:0.1555 train_acc:0.9447, valid loss:0.1581 valid acc:0.94352\n",
            "Epoch:45 / 50, train loss:0.1550 train_acc:0.9450, valid loss:0.1571 valid acc:0.94229\n",
            "Epoch:46 / 50, train loss:0.1547 train_acc:0.9452, valid loss:0.1574 valid acc:0.94203\n",
            "Epoch:47 / 50, train loss:0.1541 train_acc:0.9455, valid loss:0.1570 valid acc:0.94036\n",
            "Epoch:48 / 50, train loss:0.1543 train_acc:0.9451, valid loss:0.1559 valid acc:0.94385\n",
            "Epoch:49 / 50, train loss:0.1538 train_acc:0.9456, valid loss:0.1553 valid acc:0.94409\n",
            "Epoch:50 / 50, train loss:0.1533 train_acc:0.9458, valid loss:0.1560 valid acc:0.94335\n"
          ]
        }
      ],
      "source": [
        "CNN_LSTM_history = train_model(model=CNN_LSTM_model,\n",
        "                      train_dataset=train_dataset,\n",
        "                      test_dataset=eval_dataset,\n",
        "                      device=device,\n",
        "                      lr=0.0005,\n",
        "                      epochs=50,\n",
        "                      batch_size=8)"
      ]
    },
    {
      "cell_type": "code",
      "source": [
        "plt.plot(range(1, 51), Baseline_history['test_loss'],'b-', label='Evaluation')\n",
        "plt.plot(range(1, 51), Baseline_history['train_loss'],'r-', label='Train')\n",
        "plt.xlabel('Epochs')\n",
        "plt.ylabel('Baseline Loss')\n",
        "plt.legend()\n",
        "plt.title(\"Baseline Loss\")\n",
        "plt.show()"
      ],
      "metadata": {
        "colab": {
          "base_uri": "https://localhost:8080/",
          "height": 295
        },
        "id": "0scJ07SeJrpq",
        "outputId": "f20fb12c-791a-4aaa-df3c-e814034df9f4"
      },
      "execution_count": 30,
      "outputs": [
        {
          "output_type": "display_data",
          "data": {
            "text/plain": [
              "<Figure size 432x288 with 1 Axes>"
            ],
            "image/png": "[encoded data removed]"
          },
          "metadata": {
            "needs_background": "light"
          }
        }
      ]
    },
    {
      "cell_type": "code",
      "source": [
        "plt.plot(range(1, 51), Baseline_history['test_acc'],'b-', label='Evaluation')\n",
        "plt.plot(range(1, 51), Baseline_history['train_acc'],'r-', label='Train')\n",
        "plt.xlabel('Epochs')\n",
        "plt.ylabel('Baseline Accuracy')\n",
        "plt.ylim(0.89, 0.91)\n",
        "plt.legend()\n",
        "plt.title(\"Baseline Accuracy\")\n",
        "plt.show()"
      ],
      "metadata": {
        "colab": {
          "base_uri": "https://localhost:8080/",
          "height": 295
        },
        "id": "-tCgIIxDKEgT",
        "outputId": "add6e174-a095-4ba1-d816-21d4172b454a"
      },
      "execution_count": 32,
      "outputs": [
        {
          "output_type": "display_data",
          "data": {
            "text/plain": [
              "<Figure size 432x288 with 1 Axes>"
            ],
            "image/png": "[encoded data removed]"
          },
          "metadata": {
            "needs_background": "light"
          }
        }
      ]
    },
    {
      "cell_type": "code",
      "source": [
        "plt.plot(range(1, 51), CNN_history['test_loss'],'b-', label='Evaluation')\n",
        "plt.plot(range(1, 51), CNN_history['train_loss'],'r-', label='Train')\n",
        "plt.xlabel('Epochs')\n",
        "plt.ylabel('CNN Loss')\n",
        "plt.legend()\n",
        "plt.title(\"CNN Loss\")\n",
        "plt.show()"
      ],
      "metadata": {
        "colab": {
          "base_uri": "https://localhost:8080/",
          "height": 295
        },
        "id": "oKLZkdMqKaLC",
        "outputId": "cc115cae-3612-402e-d715-12721cc5d30e"
      },
      "execution_count": 33,
      "outputs": [
        {
          "output_type": "display_data",
          "data": {
            "text/plain": [
              "<Figure size 432x288 with 1 Axes>"
            ],
            "image/png": "[encoded data removed]"
          },
          "metadata": {
            "needs_background": "light"
          }
        }
      ]
    },
    {
      "cell_type": "code",
      "source": [
        "plt.plot(range(1, 51), Baseline_history['test_acc'], label='Baseline')\n",
        "plt.plot(range(1, 51), CNN_history['test_acc'], label='CNN')\n",
        "plt.plot(range(1, 51), CNN_LSTM_history['test_acc'], label='CNN+LSTM')\n",
        "plt.xlabel('Epochs')\n",
        "plt.ylabel('Accuracy')\n",
        "plt.ylim(0.9,1.0)\n",
        "plt.legend()\n",
        "plt.title(\"Accuracy\")\n",
        "plt.show()"
      ],
      "metadata": {
        "colab": {
          "base_uri": "https://localhost:8080/",
          "height": 295
        },
        "id": "IiPs9hLjKiAF",
        "outputId": "71ddf789-da15-43e7-fd48-d5ba896161d7"
      },
      "execution_count": 36,
      "outputs": [
        {
          "output_type": "display_data",
          "data": {
            "text/plain": [
              "<Figure size 432x288 with 1 Axes>"
            ],
            "image/png": "[encoded data removed]"
          },
          "metadata": {
            "needs_background": "light"
          }
        }
      ]
    },
    {
      "cell_type": "code",
      "source": [
        "plt.plot(range(1, 51), Baseline_history['test_loss'], label='Baseline')\n",
        "plt.plot(range(1, 51), CNN_history['test_loss'], label='CNN')\n",
        "plt.plot(range(1, 51), CNN_LSTM_history['test_loss'], label='CNN+LSTM')\n",
        "plt.xlabel('Epochs')\n",
        "plt.ylabel('Loss')\n",
        "plt.ylim(0.1,0.4)\n",
        "plt.legend()\n",
        "plt.title(\"Loss\")\n",
        "plt.show()"
      ],
      "metadata": {
        "colab": {
          "base_uri": "https://localhost:8080/",
          "height": 295
        },
        "id": "nck4hSZiLJTt",
        "outputId": "c59d9002-9bdd-4e61-ee16-3c70b32bf8e6"
      },
      "execution_count": 38,
      "outputs": [
        {
          "output_type": "display_data",
          "data": {
            "text/plain": [
              "<Figure size 432x288 with 1 Axes>"
            ],
            "image/png": "[encoded data removed]"
          },
          "metadata": {
            "needs_background": "light"
          }
        }
      ]
    },
    {
      "cell_type": "code",
      "execution_count": null,
      "metadata": {
        "id": "4WHXnxQx-wg1"
      },
      "outputs": [],
      "source": [
        "pred_table = []\n",
        "test_loader = DataLoader(test_dataset, batch_size=1)\n",
        "model_C_L.to(device)\n",
        "model_C_L.eval()\n",
        "with torch.no_grad():\n",
        "    for x in test_loader:\n",
        "        # move\n",
        "        x = x.to(device)\n",
        "        # predict\n",
        "        outputs = model_C_L(x)\n",
        "        pred = torch.round(torch.sigmoid(outputs))\n",
        "        pred_table.append(pred)\n",
        "\n",
        "pred_df = []\n",
        "def to_a(t):\n",
        "    return t.cpu().detach().numpy().reshape(50)\n",
        "for t in pred_table:\n",
        "    pred_df.append(to_a(t))\n",
        "\n",
        "test_pred = pd.DataFrame(pred_df)\n",
        "test_pred.columns = label_cols\n",
        "test_pred = test_pred.astype('int')\n",
        "test_final = pd.concat([test_df,test_pred], axis=1)\n",
        "\n",
        "id_table = []\n",
        "for i in test_final['id']:\n",
        "    for target in label_cols:\n",
        "        id_table.append(str(i)+'_'+target)\n",
        "        \n",
        "prediction_table = []\n",
        "for col, row in test_final.iterrows():\n",
        "    for target in label_cols:\n",
        "        prediction_table.append(row[target])"
      ]
    },
    {
      "cell_type": "code",
      "execution_count": null,
      "metadata": {
        "id": "wo5iHhs1-0Ey",
        "colab": {
          "base_uri": "https://localhost:8080/",
          "height": 424
        },
        "outputId": "d3f01f8c-3d25-4c05-e3ff-1f843263e243"
      },
      "outputs": [
        {
          "output_type": "execute_result",
          "data": {
            "text/plain": [
              "                                 id  predictions\n",
              "0       4771_Accounting and Finance            0\n",
              "1                    4771_Antitrust            0\n",
              "2                      4771_Banking            0\n",
              "3                4771_Broker Dealer            0\n",
              "4          4771_Commodities Trading            0\n",
              "...                             ...          ...\n",
              "249645  57235_Securities Management            0\n",
              "249646       57235_Securities Sales            0\n",
              "249647  57235_Securities Settlement            0\n",
              "249648          57235_Trade Pricing            0\n",
              "249649       57235_Trade Settlement            0\n",
              "\n",
              "[249650 rows x 2 columns]"
            ],
            "text/html": [
              "\n",
              "  <div id=\"df-b47e49cf-4715-473d-b584-74dd7a0115dc\">\n",
              "    <div class=\"colab-df-container\">\n",
              "      <div>\n",
              "<style scoped>\n",
              "    .dataframe tbody tr th:only-of-type {\n",
              "        vertical-align: middle;\n",
              "    }\n",
              "\n",
              "    .dataframe tbody tr th {\n",
              "        vertical-align: top;\n",
              "    }\n",
              "\n",
              "    .dataframe thead th {\n",
              "        text-align: right;\n",
              "    }\n",
              "</style>\n",
              "<table border=\"1\" class=\"dataframe\">\n",
              "  <thead>\n",
              "    <tr style=\"text-align: right;\">\n",
              "      <th></th>\n",
              "      <th>id</th>\n",
              "      <th>predictions</th>\n",
              "    </tr>\n",
              "  </thead>\n",
              "  <tbody>\n",
              "    <tr>\n",
              "      <th>0</th>\n",
              "      <td>4771_Accounting and Finance</td>\n",
              "      <td>0</td>\n",
              "    </tr>\n",
              "    <tr>\n",
              "      <th>1</th>\n",
              "      <td>4771_Antitrust</td>\n",
              "      <td>0</td>\n",
              "    </tr>\n",
              "    <tr>\n",
              "      <th>2</th>\n",
              "      <td>4771_Banking</td>\n",
              "      <td>0</td>\n",
              "    </tr>\n",
              "    <tr>\n",
              "      <th>3</th>\n",
              "      <td>4771_Broker Dealer</td>\n",
              "      <td>0</td>\n",
              "    </tr>\n",
              "    <tr>\n",
              "      <th>4</th>\n",
              "      <td>4771_Commodities Trading</td>\n",
              "      <td>0</td>\n",
              "    </tr>\n",
              "    <tr>\n",
              "      <th>...</th>\n",
              "      <td>...</td>\n",
              "      <td>...</td>\n",
              "    </tr>\n",
              "    <tr>\n",
              "      <th>249645</th>\n",
              "      <td>57235_Securities Management</td>\n",
              "      <td>0</td>\n",
              "    </tr>\n",
              "    <tr>\n",
              "      <th>249646</th>\n",
              "      <td>57235_Securities Sales</td>\n",
              "      <td>0</td>\n",
              "    </tr>\n",
              "    <tr>\n",
              "      <th>249647</th>\n",
              "      <td>57235_Securities Settlement</td>\n",
              "      <td>0</td>\n",
              "    </tr>\n",
              "    <tr>\n",
              "      <th>249648</th>\n",
              "      <td>57235_Trade Pricing</td>\n",
              "      <td>0</td>\n",
              "    </tr>\n",
              "    <tr>\n",
              "      <th>249649</th>\n",
              "      <td>57235_Trade Settlement</td>\n",
              "      <td>0</td>\n",
              "    </tr>\n",
              "  </tbody>\n",
              "</table>\n",
              "<p>249650 rows × 2 columns</p>\n",
              "</div>\n",
              "      <button class=\"colab-df-convert\" onclick=\"convertToInteractive('df-b47e49cf-4715-473d-b584-74dd7a0115dc')\"\n",
              "              title=\"Convert this dataframe to an interactive table.\"\n",
              "              style=\"display:none;\">\n",
              "        \n",
              "  <svg xmlns=\"http://www.w3.org/2000/svg\" height=\"24px\"viewBox=\"0 0 24 24\"\n",
              "       width=\"24px\">\n",
              "    <path d=\"M0 0h24v24H0V0z\" fill=\"none\"/>\n",
              "    <path d=\"M18.56 5.44l.94 2.06.94-2.06 2.06-.94-2.06-.94-.94-2.06-.94 2.06-2.06.94zm-11 1L8.5 8.5l.94-2.06 2.06-.94-2.06-.94L8.5 2.5l-.94 2.06-2.06.94zm10 10l.94 2.06.94-2.06 2.06-.94-2.06-.94-.94-2.06-.94 2.06-2.06.94z\"/><path d=\"M17.41 7.96l-1.37-1.37c-.4-.4-.92-.59-1.43-.59-.52 0-1.04.2-1.43.59L10.3 9.45l-7.72 7.72c-.78.78-.78 2.05 0 2.83L4 21.41c.39.39.9.59 1.41.59.51 0 1.02-.2 1.41-.59l7.78-7.78 2.81-2.81c.8-.78.8-2.07 0-2.86zM5.41 20L4 18.59l7.72-7.72 1.47 1.35L5.41 20z\"/>\n",
              "  </svg>\n",
              "      </button>\n",
              "      \n",
              "  <style>\n",
              "    .colab-df-container {\n",
              "      display:flex;\n",
              "      flex-wrap:wrap;\n",
              "      gap: 12px;\n",
              "    }\n",
              "\n",
              "    .colab-df-convert {\n",
              "      background-color: #E8F0FE;\n",
              "      border: none;\n",
              "      border-radius: 50%;\n",
              "      cursor: pointer;\n",
              "      display: none;\n",
              "      fill: #1967D2;\n",
              "      height: 32px;\n",
              "      padding: 0 0 0 0;\n",
              "      width: 32px;\n",
              "    }\n",
              "\n",
              "    .colab-df-convert:hover {\n",
              "      background-color: #E2EBFA;\n",
              "      box-shadow: 0px 1px 2px rgba(60, 64, 67, 0.3), 0px 1px 3px 1px rgba(60, 64, 67, 0.15);\n",
              "      fill: #174EA6;\n",
              "    }\n",
              "\n",
              "    [theme=dark] .colab-df-convert {\n",
              "      background-color: #3B4455;\n",
              "      fill: #D2E3FC;\n",
              "    }\n",
              "\n",
              "    [theme=dark] .colab-df-convert:hover {\n",
              "      background-color: #434B5C;\n",
              "      box-shadow: 0px 1px 3px 1px rgba(0, 0, 0, 0.15);\n",
              "      filter: drop-shadow(0px 1px 2px rgba(0, 0, 0, 0.3));\n",
              "      fill: #FFFFFF;\n",
              "    }\n",
              "  </style>\n",
              "\n",
              "      <script>\n",
              "        const buttonEl =\n",
              "          document.querySelector('#df-b47e49cf-4715-473d-b584-74dd7a0115dc button.colab-df-convert');\n",
              "        buttonEl.style.display =\n",
              "          google.colab.kernel.accessAllowed ? 'block' : 'none';\n",
              "\n",
              "        async function convertToInteractive(key) {\n",
              "          const element = document.querySelector('#df-b47e49cf-4715-473d-b584-74dd7a0115dc');\n",
              "          const dataTable =\n",
              "            await google.colab.kernel.invokeFunction('convertToInteractive',\n",
              "                                                     [key], {});\n",
              "          if (!dataTable) return;\n",
              "\n",
              "          const docLinkHtml = 'Like what you see? Visit the ' +\n",
              "            '<a target=\"_blank\" href=https://colab.research.google.com/notebooks/data_table.ipynb>data table notebook</a>'\n",
              "            + ' to learn more about interactive tables.';\n",
              "          element.innerHTML = '';\n",
              "          dataTable['output_type'] = 'display_data';\n",
              "          await google.colab.output.renderOutput(dataTable, element);\n",
              "          const docLink = document.createElement('div');\n",
              "          docLink.innerHTML = docLinkHtml;\n",
              "          element.appendChild(docLink);\n",
              "        }\n",
              "      </script>\n",
              "    </div>\n",
              "  </div>\n",
              "  "
            ]
          },
          "metadata": {},
          "execution_count": 27
        }
      ],
      "source": [
        "answer = pd.concat([pd.DataFrame(id_table), pd.DataFrame(prediction_table)], axis =1)\n",
        "answer.columns = ['id', 'predictions']\n",
        "answer.to_csv('answer_w2vcnnlstm.csv', header=True, index=False)\n",
        "answer"
      ]
    }
  ],
  "metadata": {
    "colab": {
      "provenance": []
    },
    "gpuClass": "standard",
    "kernelspec": {
      "display_name": "Python 3",
      "name": "python3"
    },
    "language_info": {
      "name": "python"
    },
    "accelerator": "GPU"
  },
  "nbformat": 4,
  "nbformat_minor": 0
}
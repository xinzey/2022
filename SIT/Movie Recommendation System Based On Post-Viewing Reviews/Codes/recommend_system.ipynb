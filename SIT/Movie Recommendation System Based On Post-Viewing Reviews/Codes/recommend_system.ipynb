{
 "cells": [
  {
   "cell_type": "code",
   "execution_count": 1,
   "metadata": {},
   "outputs": [
    {
     "name": "stderr",
     "output_type": "stream",
     "text": [
      "[nltk_data] Downloading package stopwords to /Users/Kenny/nltk_data...\n",
      "[nltk_data]   Package stopwords is already up-to-date!\n",
      "[nltk_data] Downloading package punkt to /Users/Kenny/nltk_data...\n",
      "[nltk_data]   Package punkt is already up-to-date!\n",
      "[nltk_data] Downloading package wordnet to /Users/Kenny/nltk_data...\n",
      "[nltk_data]   Package wordnet is already up-to-date!\n"
     ]
    }
   ],
   "source": [
    "import pandas as pd\n",
    "import numpy as np\n",
    "from sklearn.feature_extraction.text import CountVectorizer\n",
    "from nltk.corpus import stopwords\n",
    "from sklearn.metrics.pairwise import cosine_similarity\n",
    "import text2emotion as te\n",
    "import tkinter as tk"
   ]
  },
  {
   "cell_type": "code",
   "execution_count": 2,
   "metadata": {},
   "outputs": [],
   "source": [
    "movie_adj = pd.read_csv('processed_data_adjs.csv')"
   ]
  },
  {
   "cell_type": "code",
   "execution_count": 3,
   "metadata": {},
   "outputs": [
    {
     "data": {
      "text/plain": [
       "array([[1.        , 0.78976658, 0.81113612, ..., 0.60861495, 0.58581199,\n",
       "        0.50476911],\n",
       "       [0.78976658, 1.        , 0.80321151, ..., 0.53791928, 0.50209257,\n",
       "        0.44469431],\n",
       "       [0.81113612, 0.80321151, 1.        , ..., 0.43896995, 0.41631989,\n",
       "        0.39158327],\n",
       "       ...,\n",
       "       [0.60861495, 0.53791928, 0.43896995, ..., 1.        , 0.60091842,\n",
       "        0.51954654],\n",
       "       [0.58581199, 0.50209257, 0.41631989, ..., 0.60091842, 1.        ,\n",
       "        0.46830396],\n",
       "       [0.50476911, 0.44469431, 0.39158327, ..., 0.51954654, 0.46830396,\n",
       "        1.        ]])"
      ]
     },
     "execution_count": 3,
     "metadata": {},
     "output_type": "execute_result"
    }
   ],
   "source": [
    "# perform cosine_sim without drop duplicate\n",
    "drop_list = ['much', 'first', 'many', 'non', 'human', 'last', 'main', 'sure', 'full', \\\n",
    "                 'anti', 'top', 'whole', 'little', 'able', 'true', 'hard', 'final', 'second', \\\n",
    "                 'entire','long', 'year', 'big', 'small', 'several', 'short','overall', 'next', \\\n",
    "                 'obvious', 'self', 'right', 'actual']\n",
    "stop = list(stopwords.words('english')) + drop_list\n",
    "\n",
    "count = CountVectorizer(stop_words=stop,\\\n",
    "                             min_df=3)\n",
    "count_matrix = count.fit_transform(movie_adj['adjectives_merge'])\n",
    "cosine_sim = cosine_similarity(count_matrix, count_matrix)\n",
    "cosine_sim"
   ]
  },
  {
   "cell_type": "code",
   "execution_count": 4,
   "metadata": {},
   "outputs": [
    {
     "data": {
      "text/plain": [
       "array([[1.        , 0.43388979, 0.44694812, ..., 0.34728885, 0.37239952,\n",
       "        0.34753817],\n",
       "       [0.43388979, 1.        , 0.40859363, ..., 0.38503974, 0.33563847,\n",
       "        0.35124315],\n",
       "       [0.44694812, 0.40859363, 1.        , ..., 0.35625946, 0.35566367,\n",
       "        0.33396451],\n",
       "       ...,\n",
       "       [0.34728885, 0.38503974, 0.35625946, ..., 1.        , 0.37300782,\n",
       "        0.35075511],\n",
       "       [0.37239952, 0.33563847, 0.35566367, ..., 0.37300782, 1.        ,\n",
       "        0.35200375],\n",
       "       [0.34753817, 0.35124315, 0.33396451, ..., 0.35075511, 0.35200375,\n",
       "        1.        ]])"
      ]
     },
     "execution_count": 4,
     "metadata": {},
     "output_type": "execute_result"
    }
   ],
   "source": [
    "# perform cosine_sim with drop duplicate\n",
    "drop_list = ['much', 'first', 'many', 'non', 'human', 'last', 'main', 'sure', 'full', \\\n",
    "                 'anti', 'top', 'whole', 'little', 'able', 'true', 'hard', 'final', 'second', \\\n",
    "                 'entire','long', 'year', 'big', 'small', 'several', 'short','overall', 'next', \\\n",
    "                 'obvious', 'self', 'right', 'actual']\n",
    "stop = list(stopwords.words('english')) + drop_list\n",
    "\n",
    "count = CountVectorizer(stop_words=stop,\\\n",
    "                             min_df=3)\n",
    "count_matrix = count.fit_transform(movie_adj['adjectives_with_drop_merge'])\n",
    "cosine_sim_drop = cosine_similarity(count_matrix, count_matrix)\n",
    "cosine_sim_drop"
   ]
  },
  {
   "cell_type": "code",
   "execution_count": 5,
   "metadata": {},
   "outputs": [],
   "source": [
    "# Define the function of recommendation with 3 inputs.\n",
    "def recommend(title, recommend_number = 5, cosine_sim = cosine_sim):\n",
    "    indices = pd.Series(movie_adj['movieName'])\n",
    "    recommended_movies = []\n",
    "    idx = indices[indices == title].index[0]\n",
    "    score_series = pd.Series(cosine_sim[idx]).sort_values(ascending = False)\n",
    "    top_indices = list(score_series.iloc[1:1+recommend_number].index)\n",
    "    \n",
    "    for i in top_indices:\n",
    "        recommended_movies.append(list(movie_adj['movieName'])[i])\n",
    "        \n",
    "    return recommended_movies"
   ]
  },
  {
   "cell_type": "code",
   "execution_count": 6,
   "metadata": {},
   "outputs": [
    {
     "data": {
      "text/plain": [
       "['Rebecca',\n",
       " 'The Secret in Their Eyes',\n",
       " 'Rear Window',\n",
       " 'No Country for Old Men',\n",
       " 'The Prestige',\n",
       " 'Psycho']"
      ]
     },
     "execution_count": 6,
     "metadata": {},
     "output_type": "execute_result"
    }
   ],
   "source": [
    "recommend('Vertigo', 6, cosine_sim_drop)"
   ]
  },
  {
   "cell_type": "code",
   "execution_count": 11,
   "metadata": {},
   "outputs": [],
   "source": [
    "# Using tkinter pacakge to design a UI.\n",
    "window = tk.Tk()\n",
    "window.title('Movie Recommend System')\n",
    "window.geometry('500x400')\n",
    "\n",
    "enterboxlabel1 = tk.Label(window, text='Please enter the movie', font=('Arial', 14)).place(x=10, y=20)\n",
    "enterbox1 = tk.Entry(window, font=('Arial', 14), textvariable= tk.StringVar())\n",
    "enterbox1.place(x=260, y=20)\n",
    "\n",
    "enterboxlabel2 = tk.Label(window, text='Please enter the number (max=6)', font=('Arial', 14)).place(x=10, y=50)\n",
    "enterbox2 = tk.Entry(window, font=('Arial', 14), textvariable= tk.IntVar())\n",
    "enterbox2.place(x=260, y=50)\n",
    "\n",
    "label0 = tk.StringVar()\n",
    "label1 = tk.StringVar()\n",
    "label2 = tk.StringVar()\n",
    "label3 = tk.StringVar()\n",
    "label4 = tk.StringVar()\n",
    "label5 = tk.StringVar()\n",
    "l0 = tk.Label(window, textvariable=label0, bg='blue', fg='white', font=('Arial', 15), width=40, height=2)\n",
    "l0.place(x=10,y=120)\n",
    "l1 = tk.Label(window, textvariable=label1, bg='blue', fg='white', font=('Arial', 15), width=40, height=2)\n",
    "l1.place(x=10,y=160)\n",
    "l2 = tk.Label(window, textvariable=label2, bg='blue', fg='white', font=('Arial', 15), width=40, height=2)\n",
    "l2.place(x=10,y=200)\n",
    "l3 = tk.Label(window, textvariable=label3, bg='blue', fg='white', font=('Arial', 15), width=40, height=2)\n",
    "l3.place(x=10,y=240)\n",
    "l4 = tk.Label(window, textvariable=label4, bg='blue', fg='white', font=('Arial', 15), width=40, height=2)\n",
    "l4.place(x=10,y=280)\n",
    "l5 = tk.Label(window, textvariable=label5, bg='blue', fg='white', font=('Arial', 15), width=40, height=2)\n",
    "l5.place(x=10,y=320)\n",
    "\n",
    "label_t = tk.Label(window, text='The predicted answer is: ', font=('Arial', 14)).place(x=10, y=80)\n",
    "\n",
    "def hit():\n",
    "        \n",
    "    name = str(enterbox1.get())\n",
    "    number = int(enterbox2.get())\n",
    "    pred = recommend(name,number)\n",
    "    if len(pred)>=1:\n",
    "        label0.set('1. <'+pred[0]+'>')\n",
    "    if len(pred)>=2:\n",
    "        label1.set('2. <'+pred[1]+'>')\n",
    "    if len(pred)>=3:\n",
    "        label2.set('3. <'+pred[2]+'>')\n",
    "    if len(pred)>=4:\n",
    "        label3.set('4. <'+pred[3]+'>')\n",
    "    if len(pred)>=5:\n",
    "        label4.set('5. <'+pred[4]+'>')\n",
    "    if len(pred)>=6:\n",
    "        label5.set('6. <'+pred[5]+'>')\n",
    "        \n",
    "button = tk.Button(window, text='Recommend', font=('Arial', 14), width=10, height=1, command=hit)\n",
    "button.place(x=210,y=80)\n",
    "\n",
    "buttonexit = tk.Button(window, text = \"Exit\", font=('Arial', 14), command = window.quit)\n",
    "buttonexit.place(x=400,y=300)"
   ]
  },
  {
   "cell_type": "code",
   "execution_count": null,
   "metadata": {},
   "outputs": [],
   "source": [
    "window.mainloop()"
   ]
  },
  {
   "cell_type": "code",
   "execution_count": null,
   "metadata": {},
   "outputs": [],
   "source": []
  }
 ],
 "metadata": {
  "kernelspec": {
   "display_name": "Python 3",
   "language": "python",
   "name": "python3"
  },
  "language_info": {
   "codemirror_mode": {
    "name": "ipython",
    "version": 3
   },
   "file_extension": ".py",
   "mimetype": "text/x-python",
   "name": "python",
   "nbconvert_exporter": "python",
   "pygments_lexer": "ipython3",
   "version": "3.8.5"
  }
 },
 "nbformat": 4,
 "nbformat_minor": 4
}
